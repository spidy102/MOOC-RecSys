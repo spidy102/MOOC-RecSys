{
 "cells": [
  {
   "cell_type": "code",
   "execution_count": 1,
   "id": "6e49bdfc",
   "metadata": {},
   "outputs": [],
   "source": [
    "import pandas as pd, numpy as np, matplotlib.pyplot as plt"
   ]
  },
  {
   "cell_type": "code",
   "execution_count": 2,
   "id": "08384bb6",
   "metadata": {},
   "outputs": [],
   "source": [
    "from sklearn.cluster import KMeans"
   ]
  },
  {
   "cell_type": "code",
   "execution_count": 3,
   "id": "c58f237b",
   "metadata": {},
   "outputs": [],
   "source": [
    "df = pd.read_csv(\"stanfordMOOCForumPostsSet.csv\")"
   ]
  },
  {
   "cell_type": "code",
   "execution_count": 4,
   "id": "4f0eb6b4",
   "metadata": {},
   "outputs": [
    {
     "data": {
      "text/html": [
       "<div>\n",
       "<style scoped>\n",
       "    .dataframe tbody tr th:only-of-type {\n",
       "        vertical-align: middle;\n",
       "    }\n",
       "\n",
       "    .dataframe tbody tr th {\n",
       "        vertical-align: top;\n",
       "    }\n",
       "\n",
       "    .dataframe thead th {\n",
       "        text-align: right;\n",
       "    }\n",
       "</style>\n",
       "<table border=\"1\" class=\"dataframe\">\n",
       "  <thead>\n",
       "    <tr style=\"text-align: right;\">\n",
       "      <th></th>\n",
       "      <th>Text</th>\n",
       "      <th>Opinion(1/0)</th>\n",
       "      <th>Question(1/0)</th>\n",
       "      <th>Answer(1/0)</th>\n",
       "      <th>Sentiment(1-7)</th>\n",
       "      <th>Confusion(1-7)</th>\n",
       "      <th>Urgency(1-7)</th>\n",
       "      <th>CourseType</th>\n",
       "      <th>forum_post_id</th>\n",
       "      <th>course_display_name</th>\n",
       "      <th>forum_uid</th>\n",
       "      <th>created_at</th>\n",
       "      <th>post_type</th>\n",
       "      <th>anonymous</th>\n",
       "      <th>anonymous_to_peers</th>\n",
       "      <th>up_count</th>\n",
       "      <th>comment_thread_id</th>\n",
       "      <th>reads</th>\n",
       "    </tr>\n",
       "  </thead>\n",
       "  <tbody>\n",
       "    <tr>\n",
       "      <th>0</th>\n",
       "      <td>Interesting! How often we say those things to ...</td>\n",
       "      <td>1</td>\n",
       "      <td>0</td>\n",
       "      <td>0</td>\n",
       "      <td>6.5</td>\n",
       "      <td>2.0</td>\n",
       "      <td>1.5</td>\n",
       "      <td>Education</td>\n",
       "      <td>5225177f2c501f0a00000015</td>\n",
       "      <td>Education/EDUC115N/How_to_Learn_Math</td>\n",
       "      <td>30CADB93E6DE4711193D7BD05F2AE95C</td>\n",
       "      <td>02-09-2013 22:55</td>\n",
       "      <td>Comment</td>\n",
       "      <td>False</td>\n",
       "      <td>False</td>\n",
       "      <td>0.0</td>\n",
       "      <td>5221a8262cfae31200000001</td>\n",
       "      <td>41.0</td>\n",
       "    </tr>\n",
       "    <tr>\n",
       "      <th>1</th>\n",
       "      <td>What is \\Algebra as a Math Game\\\" or are you j...</td>\n",
       "      <td>0</td>\n",
       "      <td>1</td>\n",
       "      <td>0</td>\n",
       "      <td>4.0</td>\n",
       "      <td>5.0</td>\n",
       "      <td>3.5</td>\n",
       "      <td>Education</td>\n",
       "      <td>5207d0e9935dfc0e0000005e</td>\n",
       "      <td>Education/EDUC115N/How_to_Learn_Math</td>\n",
       "      <td>37D8FAEE7D0B94B6CFC57D98FD3D0BA5</td>\n",
       "      <td>11-08-2013 17:59</td>\n",
       "      <td>Comment</td>\n",
       "      <td>False</td>\n",
       "      <td>False</td>\n",
       "      <td>0.0</td>\n",
       "      <td>520663839df35b0a00000043</td>\n",
       "      <td>55.0</td>\n",
       "    </tr>\n",
       "    <tr>\n",
       "      <th>2</th>\n",
       "      <td>I like the idea of my kids principal who says ...</td>\n",
       "      <td>1</td>\n",
       "      <td>0</td>\n",
       "      <td>0</td>\n",
       "      <td>5.5</td>\n",
       "      <td>3.0</td>\n",
       "      <td>2.5</td>\n",
       "      <td>Education</td>\n",
       "      <td>52052c82d01fec0a00000071</td>\n",
       "      <td>Education/EDUC115N/How_to_Learn_Math</td>\n",
       "      <td>CC11480215042B3EB6E5905EAB13B733</td>\n",
       "      <td>09-08-2013 17:53</td>\n",
       "      <td>Comment</td>\n",
       "      <td>False</td>\n",
       "      <td>False</td>\n",
       "      <td>0.0</td>\n",
       "      <td>51e59415e339d716000001a6</td>\n",
       "      <td>25.0</td>\n",
       "    </tr>\n",
       "    <tr>\n",
       "      <th>3</th>\n",
       "      <td>From their responses, it seems the students re...</td>\n",
       "      <td>1</td>\n",
       "      <td>0</td>\n",
       "      <td>0</td>\n",
       "      <td>6.0</td>\n",
       "      <td>3.0</td>\n",
       "      <td>2.5</td>\n",
       "      <td>Education</td>\n",
       "      <td>5240a45e067ebf1200000008</td>\n",
       "      <td>Education/EDUC115N/How_to_Learn_Math</td>\n",
       "      <td>C717F838D10E8256D7C88B33C43623F1</td>\n",
       "      <td>23-09-2013 20:28</td>\n",
       "      <td>CommentThread</td>\n",
       "      <td>False</td>\n",
       "      <td>False</td>\n",
       "      <td>0.0</td>\n",
       "      <td>None</td>\n",
       "      <td>0.0</td>\n",
       "    </tr>\n",
       "    <tr>\n",
       "      <th>4</th>\n",
       "      <td>The boys loved math, because \\there is freedom...</td>\n",
       "      <td>1</td>\n",
       "      <td>0</td>\n",
       "      <td>0</td>\n",
       "      <td>7.0</td>\n",
       "      <td>2.0</td>\n",
       "      <td>3.0</td>\n",
       "      <td>Education</td>\n",
       "      <td>5212c5e2dd10251500000062</td>\n",
       "      <td>Education/EDUC115N/How_to_Learn_Math</td>\n",
       "      <td>F83887D68EA48964687C6441782CDD0E</td>\n",
       "      <td>20-08-2013 01:26</td>\n",
       "      <td>CommentThread</td>\n",
       "      <td>False</td>\n",
       "      <td>False</td>\n",
       "      <td>0.0</td>\n",
       "      <td>None</td>\n",
       "      <td>3.0</td>\n",
       "    </tr>\n",
       "  </tbody>\n",
       "</table>\n",
       "</div>"
      ],
      "text/plain": [
       "                                                Text  Opinion(1/0)  \\\n",
       "0  Interesting! How often we say those things to ...             1   \n",
       "1  What is \\Algebra as a Math Game\\\" or are you j...             0   \n",
       "2  I like the idea of my kids principal who says ...             1   \n",
       "3  From their responses, it seems the students re...             1   \n",
       "4  The boys loved math, because \\there is freedom...             1   \n",
       "\n",
       "   Question(1/0)  Answer(1/0)  Sentiment(1-7)  Confusion(1-7)  Urgency(1-7)  \\\n",
       "0              0            0             6.5             2.0           1.5   \n",
       "1              1            0             4.0             5.0           3.5   \n",
       "2              0            0             5.5             3.0           2.5   \n",
       "3              0            0             6.0             3.0           2.5   \n",
       "4              0            0             7.0             2.0           3.0   \n",
       "\n",
       "  CourseType             forum_post_id                   course_display_name  \\\n",
       "0  Education  5225177f2c501f0a00000015  Education/EDUC115N/How_to_Learn_Math   \n",
       "1  Education  5207d0e9935dfc0e0000005e  Education/EDUC115N/How_to_Learn_Math   \n",
       "2  Education  52052c82d01fec0a00000071  Education/EDUC115N/How_to_Learn_Math   \n",
       "3  Education  5240a45e067ebf1200000008  Education/EDUC115N/How_to_Learn_Math   \n",
       "4  Education  5212c5e2dd10251500000062  Education/EDUC115N/How_to_Learn_Math   \n",
       "\n",
       "                          forum_uid        created_at      post_type  \\\n",
       "0  30CADB93E6DE4711193D7BD05F2AE95C  02-09-2013 22:55        Comment   \n",
       "1  37D8FAEE7D0B94B6CFC57D98FD3D0BA5  11-08-2013 17:59        Comment   \n",
       "2  CC11480215042B3EB6E5905EAB13B733  09-08-2013 17:53        Comment   \n",
       "3  C717F838D10E8256D7C88B33C43623F1  23-09-2013 20:28  CommentThread   \n",
       "4  F83887D68EA48964687C6441782CDD0E  20-08-2013 01:26  CommentThread   \n",
       "\n",
       "  anonymous anonymous_to_peers  up_count         comment_thread_id  reads  \n",
       "0     False              False       0.0  5221a8262cfae31200000001   41.0  \n",
       "1     False              False       0.0  520663839df35b0a00000043   55.0  \n",
       "2     False              False       0.0  51e59415e339d716000001a6   25.0  \n",
       "3     False              False       0.0                      None    0.0  \n",
       "4     False              False       0.0                      None    3.0  "
      ]
     },
     "execution_count": 4,
     "metadata": {},
     "output_type": "execute_result"
    }
   ],
   "source": [
    "df.head()"
   ]
  },
  {
   "cell_type": "code",
   "execution_count": 5,
   "id": "e83cac8b",
   "metadata": {},
   "outputs": [
    {
     "data": {
      "text/plain": [
       "array(['Education/EDUC115N/How_to_Learn_Math',\n",
       "       'HumanitiesScience/Stats216/Winter2014',\n",
       "       'HumanitiesSciences/EP101/Environmental_Physiology',\n",
       "       'HumanitiesScience/StatLearning/Winter2014',\n",
       "       'GlobalHealth/WomensHealth/Winter2014',\n",
       "       'HumanitiesSciences/Econ1V/Summer2014',\n",
       "       'HumanitiesSciences/Econ-1/Summer2014', nan,\n",
       "       'Medicine/HRP258/Statistics_in_Medicine',\n",
       "       'Medicine/SciWrite/Fall2013',\n",
       "       'Medicine/SURG210/Managing_Emergencies_What_Every_Doctor_Must_Know',\n",
       "       'Medicine/MedStats/Summer2014'], dtype=object)"
      ]
     },
     "execution_count": 5,
     "metadata": {},
     "output_type": "execute_result"
    }
   ],
   "source": [
    "df['course_display_name'].unique()"
   ]
  },
  {
   "cell_type": "code",
   "execution_count": 6,
   "id": "fbd2eddc",
   "metadata": {},
   "outputs": [
    {
     "data": {
      "text/plain": [
       "array(['Education', nan, 'Humanities', 'Medicine'], dtype=object)"
      ]
     },
     "execution_count": 6,
     "metadata": {},
     "output_type": "execute_result"
    }
   ],
   "source": [
    "df['CourseType'].unique()"
   ]
  },
  {
   "cell_type": "code",
   "execution_count": 7,
   "id": "1c8626d2",
   "metadata": {},
   "outputs": [
    {
     "name": "stderr",
     "output_type": "stream",
     "text": [
      "C:\\Users\\HP\\AppData\\Local\\Temp\\ipykernel_22740\\2890159968.py:1: UserWarning: Boolean Series key will be reindexed to match DataFrame index.\n",
      "  len(df[df['Question(1/0)']==1][df['Opinion(1/0)']==1])\n"
     ]
    },
    {
     "data": {
      "text/plain": [
       "1325"
      ]
     },
     "execution_count": 7,
     "metadata": {},
     "output_type": "execute_result"
    }
   ],
   "source": [
    "len(df[df['Question(1/0)']==1][df['Opinion(1/0)']==1])"
   ]
  },
  {
   "cell_type": "code",
   "execution_count": 8,
   "id": "dbbbde16",
   "metadata": {},
   "outputs": [],
   "source": [
    "partset = df[df['Question(1/0)']==1][['Urgency(1-7)','up_count','reads','Confusion(1-7)','Opinion(1/0)']]"
   ]
  },
  {
   "cell_type": "code",
   "execution_count": 9,
   "id": "63b2867d",
   "metadata": {},
   "outputs": [
    {
     "data": {
      "text/html": [
       "<div>\n",
       "<style scoped>\n",
       "    .dataframe tbody tr th:only-of-type {\n",
       "        vertical-align: middle;\n",
       "    }\n",
       "\n",
       "    .dataframe tbody tr th {\n",
       "        vertical-align: top;\n",
       "    }\n",
       "\n",
       "    .dataframe thead th {\n",
       "        text-align: right;\n",
       "    }\n",
       "</style>\n",
       "<table border=\"1\" class=\"dataframe\">\n",
       "  <thead>\n",
       "    <tr style=\"text-align: right;\">\n",
       "      <th></th>\n",
       "      <th>Urgency(1-7)</th>\n",
       "      <th>up_count</th>\n",
       "      <th>reads</th>\n",
       "      <th>Confusion(1-7)</th>\n",
       "      <th>Opinion(1/0)</th>\n",
       "    </tr>\n",
       "  </thead>\n",
       "  <tbody>\n",
       "    <tr>\n",
       "      <th>count</th>\n",
       "      <td>5959.000000</td>\n",
       "      <td>5957.000000</td>\n",
       "      <td>5957.000000</td>\n",
       "      <td>5959.000000</td>\n",
       "      <td>5959.000000</td>\n",
       "    </tr>\n",
       "    <tr>\n",
       "      <th>mean</th>\n",
       "      <td>4.602786</td>\n",
       "      <td>0.506463</td>\n",
       "      <td>369.893906</td>\n",
       "      <td>4.526850</td>\n",
       "      <td>0.222353</td>\n",
       "    </tr>\n",
       "    <tr>\n",
       "      <th>std</th>\n",
       "      <td>1.169059</td>\n",
       "      <td>1.716520</td>\n",
       "      <td>980.799964</td>\n",
       "      <td>0.656481</td>\n",
       "      <td>0.415862</td>\n",
       "    </tr>\n",
       "    <tr>\n",
       "      <th>min</th>\n",
       "      <td>1.000000</td>\n",
       "      <td>0.000000</td>\n",
       "      <td>0.000000</td>\n",
       "      <td>2.000000</td>\n",
       "      <td>0.000000</td>\n",
       "    </tr>\n",
       "    <tr>\n",
       "      <th>25%</th>\n",
       "      <td>4.000000</td>\n",
       "      <td>0.000000</td>\n",
       "      <td>47.000000</td>\n",
       "      <td>4.000000</td>\n",
       "      <td>0.000000</td>\n",
       "    </tr>\n",
       "    <tr>\n",
       "      <th>50%</th>\n",
       "      <td>5.000000</td>\n",
       "      <td>0.000000</td>\n",
       "      <td>94.000000</td>\n",
       "      <td>4.500000</td>\n",
       "      <td>0.000000</td>\n",
       "    </tr>\n",
       "    <tr>\n",
       "      <th>75%</th>\n",
       "      <td>5.500000</td>\n",
       "      <td>0.000000</td>\n",
       "      <td>232.000000</td>\n",
       "      <td>5.000000</td>\n",
       "      <td>0.000000</td>\n",
       "    </tr>\n",
       "    <tr>\n",
       "      <th>max</th>\n",
       "      <td>7.000000</td>\n",
       "      <td>46.000000</td>\n",
       "      <td>9452.000000</td>\n",
       "      <td>7.000000</td>\n",
       "      <td>1.000000</td>\n",
       "    </tr>\n",
       "  </tbody>\n",
       "</table>\n",
       "</div>"
      ],
      "text/plain": [
       "       Urgency(1-7)     up_count        reads  Confusion(1-7)  Opinion(1/0)\n",
       "count   5959.000000  5957.000000  5957.000000     5959.000000   5959.000000\n",
       "mean       4.602786     0.506463   369.893906        4.526850      0.222353\n",
       "std        1.169059     1.716520   980.799964        0.656481      0.415862\n",
       "min        1.000000     0.000000     0.000000        2.000000      0.000000\n",
       "25%        4.000000     0.000000    47.000000        4.000000      0.000000\n",
       "50%        5.000000     0.000000    94.000000        4.500000      0.000000\n",
       "75%        5.500000     0.000000   232.000000        5.000000      0.000000\n",
       "max        7.000000    46.000000  9452.000000        7.000000      1.000000"
      ]
     },
     "execution_count": 9,
     "metadata": {},
     "output_type": "execute_result"
    }
   ],
   "source": [
    "partset.describe()"
   ]
  },
  {
   "cell_type": "code",
   "execution_count": 10,
   "id": "68746adf",
   "metadata": {},
   "outputs": [],
   "source": [
    "temp = partset"
   ]
  },
  {
   "cell_type": "code",
   "execution_count": 11,
   "id": "7586ccf6",
   "metadata": {},
   "outputs": [],
   "source": [
    "temp['up_count']/=max(partset['up_count'])"
   ]
  },
  {
   "cell_type": "code",
   "execution_count": 12,
   "id": "63242323",
   "metadata": {},
   "outputs": [],
   "source": [
    "temp['reads']/=max(partset['reads'])"
   ]
  },
  {
   "cell_type": "code",
   "execution_count": 13,
   "id": "b13aafbd",
   "metadata": {},
   "outputs": [],
   "source": [
    "temp['Confusion(1-7)']/=max(partset['Confusion(1-7)'])\n",
    "temp['Urgency(1-7)']/=max(partset['Urgency(1-7)'])"
   ]
  },
  {
   "cell_type": "code",
   "execution_count": 14,
   "id": "b420ec1c",
   "metadata": {},
   "outputs": [
    {
     "data": {
      "text/html": [
       "<div>\n",
       "<style scoped>\n",
       "    .dataframe tbody tr th:only-of-type {\n",
       "        vertical-align: middle;\n",
       "    }\n",
       "\n",
       "    .dataframe tbody tr th {\n",
       "        vertical-align: top;\n",
       "    }\n",
       "\n",
       "    .dataframe thead th {\n",
       "        text-align: right;\n",
       "    }\n",
       "</style>\n",
       "<table border=\"1\" class=\"dataframe\">\n",
       "  <thead>\n",
       "    <tr style=\"text-align: right;\">\n",
       "      <th></th>\n",
       "      <th>Urgency(1-7)</th>\n",
       "      <th>up_count</th>\n",
       "      <th>reads</th>\n",
       "      <th>Confusion(1-7)</th>\n",
       "      <th>Opinion(1/0)</th>\n",
       "    </tr>\n",
       "  </thead>\n",
       "  <tbody>\n",
       "    <tr>\n",
       "      <th>count</th>\n",
       "      <td>5959.000000</td>\n",
       "      <td>5957.000000</td>\n",
       "      <td>5957.000000</td>\n",
       "      <td>5959.000000</td>\n",
       "      <td>5959.000000</td>\n",
       "    </tr>\n",
       "    <tr>\n",
       "      <th>mean</th>\n",
       "      <td>0.657541</td>\n",
       "      <td>0.011010</td>\n",
       "      <td>0.039134</td>\n",
       "      <td>0.646693</td>\n",
       "      <td>0.222353</td>\n",
       "    </tr>\n",
       "    <tr>\n",
       "      <th>std</th>\n",
       "      <td>0.167008</td>\n",
       "      <td>0.037316</td>\n",
       "      <td>0.103766</td>\n",
       "      <td>0.093783</td>\n",
       "      <td>0.415862</td>\n",
       "    </tr>\n",
       "    <tr>\n",
       "      <th>min</th>\n",
       "      <td>0.142857</td>\n",
       "      <td>0.000000</td>\n",
       "      <td>0.000000</td>\n",
       "      <td>0.285714</td>\n",
       "      <td>0.000000</td>\n",
       "    </tr>\n",
       "    <tr>\n",
       "      <th>25%</th>\n",
       "      <td>0.571429</td>\n",
       "      <td>0.000000</td>\n",
       "      <td>0.004972</td>\n",
       "      <td>0.571429</td>\n",
       "      <td>0.000000</td>\n",
       "    </tr>\n",
       "    <tr>\n",
       "      <th>50%</th>\n",
       "      <td>0.714286</td>\n",
       "      <td>0.000000</td>\n",
       "      <td>0.009945</td>\n",
       "      <td>0.642857</td>\n",
       "      <td>0.000000</td>\n",
       "    </tr>\n",
       "    <tr>\n",
       "      <th>75%</th>\n",
       "      <td>0.785714</td>\n",
       "      <td>0.000000</td>\n",
       "      <td>0.024545</td>\n",
       "      <td>0.714286</td>\n",
       "      <td>0.000000</td>\n",
       "    </tr>\n",
       "    <tr>\n",
       "      <th>max</th>\n",
       "      <td>1.000000</td>\n",
       "      <td>1.000000</td>\n",
       "      <td>1.000000</td>\n",
       "      <td>1.000000</td>\n",
       "      <td>1.000000</td>\n",
       "    </tr>\n",
       "  </tbody>\n",
       "</table>\n",
       "</div>"
      ],
      "text/plain": [
       "       Urgency(1-7)     up_count        reads  Confusion(1-7)  Opinion(1/0)\n",
       "count   5959.000000  5957.000000  5957.000000     5959.000000   5959.000000\n",
       "mean       0.657541     0.011010     0.039134        0.646693      0.222353\n",
       "std        0.167008     0.037316     0.103766        0.093783      0.415862\n",
       "min        0.142857     0.000000     0.000000        0.285714      0.000000\n",
       "25%        0.571429     0.000000     0.004972        0.571429      0.000000\n",
       "50%        0.714286     0.000000     0.009945        0.642857      0.000000\n",
       "75%        0.785714     0.000000     0.024545        0.714286      0.000000\n",
       "max        1.000000     1.000000     1.000000        1.000000      1.000000"
      ]
     },
     "execution_count": 14,
     "metadata": {},
     "output_type": "execute_result"
    }
   ],
   "source": [
    "temp.describe()"
   ]
  },
  {
   "cell_type": "code",
   "execution_count": 15,
   "id": "138d54f9",
   "metadata": {},
   "outputs": [],
   "source": [
    "Y = temp['Urgency(1-7)']"
   ]
  },
  {
   "cell_type": "code",
   "execution_count": 16,
   "id": "3b38a33b",
   "metadata": {},
   "outputs": [],
   "source": [
    "X = temp[['up_count','reads','Confusion(1-7)','Opinion(1/0)']]"
   ]
  },
  {
   "cell_type": "code",
   "execution_count": 17,
   "id": "a33bbe82",
   "metadata": {},
   "outputs": [],
   "source": [
    "from sklearn.decomposition import PCA"
   ]
  },
  {
   "cell_type": "code",
   "execution_count": 18,
   "id": "2c2c3abc",
   "metadata": {},
   "outputs": [],
   "source": [
    "X = X.fillna(0)"
   ]
  },
  {
   "cell_type": "code",
   "execution_count": 19,
   "id": "d09f6186",
   "metadata": {},
   "outputs": [
    {
     "data": {
      "text/plain": [
       "up_count          0\n",
       "reads             0\n",
       "Confusion(1-7)    0\n",
       "Opinion(1/0)      0\n",
       "dtype: int64"
      ]
     },
     "execution_count": 19,
     "metadata": {},
     "output_type": "execute_result"
    }
   ],
   "source": [
    "X.isnull().sum()"
   ]
  },
  {
   "cell_type": "code",
   "execution_count": 41,
   "id": "aeca31e1",
   "metadata": {},
   "outputs": [],
   "source": [
    "X_reduced = PCA().fit_transform(X)"
   ]
  },
  {
   "cell_type": "code",
   "execution_count": 90,
   "id": "08a99536",
   "metadata": {},
   "outputs": [
    {
     "data": {
      "text/plain": [
       "array([[-314.76982896,   -0.45312356,   -0.48113023],\n",
       "       [-349.76982846,   -0.447281  ,   -0.48194334],\n",
       "       [-352.76981669,   -0.44612032,   -0.9820126 ],\n",
       "       ...,\n",
       "       [-319.76970889,    0.54507064,    1.52007165],\n",
       "       [-225.76983022,   -0.46798033,   -0.47906263],\n",
       "       [-166.76983106,   -0.47782921,   -0.47769196]])"
      ]
     },
     "execution_count": 90,
     "metadata": {},
     "output_type": "execute_result"
    }
   ],
   "source": [
    "X_reduced"
   ]
  },
  {
   "cell_type": "code",
   "execution_count": 16,
   "id": "c4083438",
   "metadata": {},
   "outputs": [],
   "source": [
    "km = KMeans(n_clusters=13,n_init=10,max_iter=300,tol=1e-04,random_state=0)"
   ]
  },
  {
   "cell_type": "code",
   "execution_count": 23,
   "id": "749e319a",
   "metadata": {},
   "outputs": [],
   "source": [
    "from sklearn.model_selection import train_test_split"
   ]
  },
  {
   "cell_type": "code",
   "execution_count": 24,
   "id": "6330e277",
   "metadata": {},
   "outputs": [],
   "source": [
    "X_train, x_test, Y_train, y_test = train_test_split(X,Y)\n"
   ]
  },
  {
   "cell_type": "code",
   "execution_count": 25,
   "id": "94961d24",
   "metadata": {},
   "outputs": [
    {
     "name": "stdout",
     "output_type": "stream",
     "text": [
      "          up_count        reads  Confusion(1-7)  Opinion(1/0)\n",
      "count  4469.000000  4469.000000     4469.000000   4469.000000\n",
      "mean      0.011105     0.040220        0.647173      0.222197\n",
      "std       0.039550     0.107548        0.094628      0.415770\n",
      "min       0.000000     0.000000        0.357143      0.000000\n",
      "25%       0.000000     0.004972        0.571429      0.000000\n",
      "50%       0.000000     0.010051        0.642857      0.000000\n",
      "75%       0.000000     0.025074        0.714286      0.000000\n",
      "max       1.000000     1.000000        1.000000      1.000000\n"
     ]
    }
   ],
   "source": [
    "print(X_train.describe())\n",
    "X_train = X_train.values\n",
    "x_test = x_test.values\n",
    "Y_train = Y_train.values\n",
    "y_test = y_test.values"
   ]
  },
  {
   "cell_type": "code",
   "execution_count": 103,
   "id": "b44d4ee5",
   "metadata": {},
   "outputs": [],
   "source": [
    "from sklearn.linear_model import LinearRegression"
   ]
  },
  {
   "cell_type": "code",
   "execution_count": null,
   "id": "cfc17059",
   "metadata": {},
   "outputs": [],
   "source": []
  },
  {
   "cell_type": "code",
   "execution_count": 104,
   "id": "fd342bef",
   "metadata": {},
   "outputs": [],
   "source": [
    "model = LinearRegression()"
   ]
  },
  {
   "cell_type": "code",
   "execution_count": 111,
   "id": "6981c787",
   "metadata": {},
   "outputs": [
    {
     "data": {
      "text/plain": [
       "LinearRegression()"
      ]
     },
     "execution_count": 111,
     "metadata": {},
     "output_type": "execute_result"
    }
   ],
   "source": [
    "model.fit(X_train,Y_train)"
   ]
  },
  {
   "cell_type": "code",
   "execution_count": 112,
   "id": "db28fe11",
   "metadata": {},
   "outputs": [],
   "source": [
    "y_pred = model.predict(x_test)"
   ]
  },
  {
   "cell_type": "code",
   "execution_count": 113,
   "id": "e738f769",
   "metadata": {},
   "outputs": [
    {
     "name": "stdout",
     "output_type": "stream",
     "text": [
      "r2 socre is  0.2366995779427632\n",
      "mean_sqrd_error is== 0.021121903665015537\n",
      "root_mean_squared error of is== 0.14533376643098306\n"
     ]
    }
   ],
   "source": [
    "from sklearn.metrics import r2_score\n",
    "from sklearn.metrics import mean_squared_error\n",
    "score=r2_score(y_test,y_pred)\n",
    "print('r2 socre is ',score)\n",
    "print('mean_sqrd_error is==',mean_squared_error(y_test,y_pred))\n",
    "print('root_mean_squared error of is==',np.sqrt(mean_squared_error(y_test,y_pred)))"
   ]
  },
  {
   "cell_type": "code",
   "execution_count": 59,
   "id": "deebcff8",
   "metadata": {},
   "outputs": [
    {
     "data": {
      "text/plain": [
       "KMeans(n_clusters=13, random_state=0)"
      ]
     },
     "execution_count": 59,
     "metadata": {},
     "output_type": "execute_result"
    }
   ],
   "source": [
    "km.fit(X_reduced)"
   ]
  },
  {
   "cell_type": "code",
   "execution_count": 65,
   "id": "a8c318b9",
   "metadata": {},
   "outputs": [
    {
     "data": {
      "text/plain": [
       "1        3.5\n",
       "22       3.5\n",
       "33       4.5\n",
       "46       2.5\n",
       "50       5.0\n",
       "        ... \n",
       "29593    5.5\n",
       "29596    3.0\n",
       "29598    1.0\n",
       "29601    5.5\n",
       "29602    5.5\n",
       "Name: Urgency(1-7), Length: 5959, dtype: float64"
      ]
     },
     "execution_count": 65,
     "metadata": {},
     "output_type": "execute_result"
    }
   ],
   "source": [
    "Y"
   ]
  },
  {
   "cell_type": "code",
   "execution_count": 62,
   "id": "97c322d5",
   "metadata": {},
   "outputs": [
    {
     "data": {
      "text/plain": [
       "array([0, 0, 0, ..., 0, 8, 8])"
      ]
     },
     "execution_count": 62,
     "metadata": {},
     "output_type": "execute_result"
    }
   ],
   "source": [
    "km.predict(X_reduced)"
   ]
  },
  {
   "cell_type": "code",
   "execution_count": 63,
   "id": "f48f0cd6",
   "metadata": {},
   "outputs": [
    {
     "data": {
      "text/plain": [
       "1        3.5\n",
       "22       3.5\n",
       "33       4.5\n",
       "46       2.5\n",
       "50       5.0\n",
       "        ... \n",
       "29593    5.5\n",
       "29596    3.0\n",
       "29598    1.0\n",
       "29601    5.5\n",
       "29602    5.5\n",
       "Name: Urgency(1-7), Length: 5959, dtype: float64"
      ]
     },
     "execution_count": 63,
     "metadata": {},
     "output_type": "execute_result"
    }
   ],
   "source": [
    "Y"
   ]
  },
  {
   "cell_type": "code",
   "execution_count": 66,
   "id": "ccbc1a0c",
   "metadata": {},
   "outputs": [],
   "source": [
    "from sklearn.cluster import DBSCAN"
   ]
  },
  {
   "cell_type": "code",
   "execution_count": 67,
   "id": "9c2e0190",
   "metadata": {},
   "outputs": [],
   "source": [
    "dbsc = DBSCAN()"
   ]
  },
  {
   "cell_type": "code",
   "execution_count": 69,
   "id": "e3bf4d69",
   "metadata": {},
   "outputs": [
    {
     "data": {
      "text/plain": [
       "DBSCAN()"
      ]
     },
     "execution_count": 69,
     "metadata": {},
     "output_type": "execute_result"
    }
   ],
   "source": [
    "dbsc.fit(X_reduced)"
   ]
  },
  {
   "cell_type": "code",
   "execution_count": 71,
   "id": "2aec4490",
   "metadata": {},
   "outputs": [],
   "source": [
    "res = dbsc.fit_predict(X_reduced)"
   ]
  },
  {
   "cell_type": "code",
   "execution_count": 72,
   "id": "7d36b300",
   "metadata": {},
   "outputs": [
    {
     "data": {
      "text/plain": [
       "array([ 0,  1, -1, ..., -1, -1, -1], dtype=int64)"
      ]
     },
     "execution_count": 72,
     "metadata": {},
     "output_type": "execute_result"
    }
   ],
   "source": [
    "res"
   ]
  },
  {
   "cell_type": "code",
   "execution_count": 26,
   "id": "4eeb57bf",
   "metadata": {},
   "outputs": [],
   "source": [
    "#neural network\n",
    "import torch\n",
    "import torch.nn as nn\n",
    "import torch.utils.data as td"
   ]
  },
  {
   "cell_type": "code",
   "execution_count": 27,
   "id": "16a7aa3f",
   "metadata": {},
   "outputs": [],
   "source": [
    "class ShauryaNet(nn.Module):\n",
    "    def __init__(self):\n",
    "        super(ShauryaNet, self).__init__()\n",
    "        self.net = nn.Sequential(\n",
    "            nn.Linear(4, 100),\n",
    "            nn.ReLU(),\n",
    "            nn.Linear(100, 100),\n",
    "            nn.ReLU(),\n",
    "            nn.Linear(100, 1),\n",
    "            nn.Sigmoid()\n",
    "        )\n",
    "\n",
    "    def forward(self, x):\n",
    "        x = self.net(x)\n",
    "        return x"
   ]
  },
  {
   "cell_type": "code",
   "execution_count": 28,
   "id": "1f83494f",
   "metadata": {},
   "outputs": [
    {
     "name": "stdout",
     "output_type": "stream",
     "text": [
      "tensor([[0.4881],\n",
      "        [0.4708],\n",
      "        [0.5176],\n",
      "        [0.4881],\n",
      "        [0.4885],\n",
      "        [0.4931],\n",
      "        [0.5065],\n",
      "        [0.4867],\n",
      "        [0.4747],\n",
      "        [0.4798]], grad_fn=<SigmoidBackward0>)\n"
     ]
    }
   ],
   "source": [
    "net = ShauryaNet()\n",
    "inp = torch.randn(10, 4)\n",
    "print(net(inp))"
   ]
  },
  {
   "cell_type": "code",
   "execution_count": 29,
   "id": "3d512a43",
   "metadata": {},
   "outputs": [
    {
     "name": "stdout",
     "output_type": "stream",
     "text": [
      "(4469, 4)\n",
      "[[4.34782609e-01 1.14578925e-01 5.71428571e-01 0.00000000e+00]\n",
      " [0.00000000e+00 6.34786289e-04 5.71428571e-01 1.00000000e+00]\n",
      " [0.00000000e+00 1.37537029e-03 6.42857143e-01 1.00000000e+00]\n",
      " [0.00000000e+00 6.77105375e-03 5.71428571e-01 0.00000000e+00]\n",
      " [0.00000000e+00 1.12145578e-02 5.71428571e-01 0.00000000e+00]]\n"
     ]
    }
   ],
   "source": [
    "print(X_train.shape)\n",
    "print(X_train[:5])"
   ]
  },
  {
   "cell_type": "code",
   "execution_count": 30,
   "id": "84dbd200",
   "metadata": {},
   "outputs": [
    {
     "name": "stdout",
     "output_type": "stream",
     "text": [
      "tensor([[4.3478e-01, 1.1458e-01, 5.7143e-01, 0.0000e+00],\n",
      "        [0.0000e+00, 6.3479e-04, 5.7143e-01, 1.0000e+00],\n",
      "        [0.0000e+00, 1.3754e-03, 6.4286e-01, 1.0000e+00],\n",
      "        [0.0000e+00, 6.7711e-03, 5.7143e-01, 0.0000e+00],\n",
      "        [0.0000e+00, 1.1215e-02, 5.7143e-01, 0.0000e+00]])\n",
      "Ready to load data\n"
     ]
    }
   ],
   "source": [
    "# Create a dataset and loader for the training data and labels\n",
    "train_x = torch.Tensor(X_train).float()\n",
    "train_y = torch.Tensor(Y_train).float()\n",
    "train_ds = td.TensorDataset(train_x, train_y)\n",
    "print(train_x[:5])\n",
    "train_loader = td.DataLoader(train_ds, batch_size=20,\n",
    "    shuffle=False, num_workers=1)\n",
    "\n",
    "# Create a dataset and loader for the test data and labels\n",
    "test_x = torch.Tensor(x_test).float()\n",
    "test_y = torch.Tensor(y_test).float()\n",
    "test_ds = td.TensorDataset(test_x,test_y)\n",
    "test_loader = td.DataLoader(test_ds, batch_size=20,\n",
    "    shuffle=False, num_workers=1)\n",
    "print('Ready to load data')"
   ]
  },
  {
   "cell_type": "code",
   "execution_count": 31,
   "id": "abd5c3c5",
   "metadata": {},
   "outputs": [],
   "source": [
    "def train(model, data_loader, optimizer, loss_criteria):\n",
    "    # Set the model to training mode\n",
    "    correct = 0\n",
    "    model.train()\n",
    "    train_loss = 0\n",
    "    batch_size = len(data_loader.dataset)\n",
    "#     print(next(iter(train_loader)))\n",
    "    for batch, tensor in enumerate(data_loader):\n",
    "        data, target = tensor\n",
    "        #feedforward\n",
    "        optimizer.zero_grad()\n",
    "        out = model(data)\n",
    "#         print(data, out, target)\n",
    "#         print(out.shape, target.shape)\n",
    "        loss = loss_criteria(out, target)\n",
    "        train_loss += loss.item()\n",
    "#         print(loss.item())\n",
    "        # backpropagate\n",
    "        loss.backward()\n",
    "        optimizer.step()\n",
    "        correct += torch.sum(abs((out * 13) - (target * 13)) >= 0.5).item()\n",
    "\n",
    "    train_acc = 100. * correct / (batch_size + 1)\n",
    "    #Return average loss\n",
    "    avg_loss = train_loss / (batch+1)\n",
    "#     print(f'Training set: {train_loss:.6f}. Average loss: {avg_loss:.6f}')\n",
    "    return avg_loss, train_acc\n",
    "\n",
    "\n",
    "def test(model, data_loader, loss_criteria):\n",
    "    # Switch the model to evaluation mode (so we don't backpropagate)\n",
    "    model.eval()\n",
    "    test_loss = 0\n",
    "    correct = 0\n",
    "    batch_len = len(data_loader.dataset)\n",
    "    with torch.no_grad():\n",
    "        batch_count = 0\n",
    "        for batch, tensor in enumerate(data_loader):\n",
    "            batch_count += 1\n",
    "            data, target = tensor\n",
    "            # Get the predictions\n",
    "            out = model(data)\n",
    "\n",
    "            # calculate the loss\n",
    "            test_loss += loss_criteria(out, target).item()\n",
    "\n",
    "            # Calculate the accuracy\n",
    "            _, predicted = torch.max(out.data, 1)\n",
    "            correct += torch.sum(abs((out * 13) - (target * 13)) >= 0.5).item()\n",
    "            \n",
    "    # Calculate the average loss and total accuracy for this epoch\n",
    "    avg_loss = test_loss/batch_len\n",
    "    \n",
    "    test_acc = 100. * correct / len(data_loader.dataset)\n",
    "    \n",
    "    # return average loss for the epoch\n",
    "    return avg_loss, test_acc\n"
   ]
  },
  {
   "cell_type": "code",
   "execution_count": 32,
   "id": "41bcffe6",
   "metadata": {},
   "outputs": [
    {
     "data": {
      "text/plain": [
       "tensor(4)"
      ]
     },
     "execution_count": 32,
     "metadata": {},
     "output_type": "execute_result"
    }
   ],
   "source": [
    "a = torch.Tensor([0.5, 1, 0.6, 0.7])\n",
    "b = torch.Tensor([0.1, 0.5, 0.1, 0.2])\n",
    "torch.sum(abs((a ) - (b )) >= 0.1)"
   ]
  },
  {
   "cell_type": "code",
   "execution_count": 33,
   "id": "06d3aca2",
   "metadata": {},
   "outputs": [
    {
     "name": "stdout",
     "output_type": "stream",
     "text": [
      "[tensor([[4.3478e-01, 1.1458e-01, 5.7143e-01, 0.0000e+00],\n",
      "        [0.0000e+00, 6.3479e-04, 5.7143e-01, 1.0000e+00],\n",
      "        [0.0000e+00, 1.3754e-03, 6.4286e-01, 1.0000e+00],\n",
      "        [0.0000e+00, 6.7711e-03, 5.7143e-01, 0.0000e+00],\n",
      "        [0.0000e+00, 1.1215e-02, 5.7143e-01, 0.0000e+00],\n",
      "        [0.0000e+00, 5.2899e-04, 5.7143e-01, 0.0000e+00],\n",
      "        [0.0000e+00, 2.7402e-02, 7.8571e-01, 0.0000e+00],\n",
      "        [0.0000e+00, 5.1841e-02, 7.8571e-01, 0.0000e+00],\n",
      "        [2.1739e-02, 6.7711e-03, 5.7143e-01, 1.0000e+00],\n",
      "        [0.0000e+00, 8.8870e-03, 5.7143e-01, 0.0000e+00],\n",
      "        [0.0000e+00, 2.2218e-03, 3.5714e-01, 1.0000e+00],\n",
      "        [0.0000e+00, 1.0083e-01, 6.4286e-01, 0.0000e+00],\n",
      "        [2.1739e-02, 8.2522e-03, 6.4286e-01, 0.0000e+00],\n",
      "        [0.0000e+00, 8.2522e-03, 7.8571e-01, 0.0000e+00],\n",
      "        [0.0000e+00, 4.4435e-03, 5.7143e-01, 1.0000e+00],\n",
      "        [0.0000e+00, 4.8667e-03, 6.4286e-01, 0.0000e+00],\n",
      "        [2.1739e-02, 0.0000e+00, 5.7143e-01, 0.0000e+00],\n",
      "        [2.1739e-02, 3.1210e-02, 7.1429e-01, 0.0000e+00],\n",
      "        [0.0000e+00, 5.7131e-03, 5.7143e-01, 0.0000e+00],\n",
      "        [0.0000e+00, 1.1638e-02, 7.1429e-01, 0.0000e+00]]), tensor([0.7857, 0.4286, 0.7143, 0.4286, 0.2143, 0.4286, 0.7143, 0.7857, 0.7143,\n",
      "        0.7143, 0.5714, 0.4286, 0.7857, 0.7857, 0.3571, 0.7857, 0.5000, 0.7143,\n",
      "        0.7143, 0.5000])]\n"
     ]
    }
   ],
   "source": [
    "print(next(iter(train_loader)))"
   ]
  },
  {
   "cell_type": "code",
   "execution_count": 35,
   "id": "2c6a19bd",
   "metadata": {},
   "outputs": [
    {
     "name": "stderr",
     "output_type": "stream",
     "text": [
      "C:\\Users\\HP\\anaconda3\\lib\\site-packages\\torch\\nn\\modules\\loss.py:530: UserWarning: Using a target size (torch.Size([20])) that is different to the input size (torch.Size([20, 1])). This will likely lead to incorrect results due to broadcasting. Please ensure they have the same size.\n",
      "  return F.mse_loss(input, target, reduction=self.reduction)\n",
      "C:\\Users\\HP\\anaconda3\\lib\\site-packages\\torch\\nn\\modules\\loss.py:530: UserWarning: Using a target size (torch.Size([9])) that is different to the input size (torch.Size([9, 1])). This will likely lead to incorrect results due to broadcasting. Please ensure they have the same size.\n",
      "  return F.mse_loss(input, target, reduction=self.reduction)\n",
      "C:\\Users\\HP\\anaconda3\\lib\\site-packages\\torch\\nn\\modules\\loss.py:530: UserWarning: Using a target size (torch.Size([10])) that is different to the input size (torch.Size([10, 1])). This will likely lead to incorrect results due to broadcasting. Please ensure they have the same size.\n",
      "  return F.mse_loss(input, target, reduction=self.reduction)\n"
     ]
    },
    {
     "name": "stdout",
     "output_type": "stream",
     "text": [
      "Epoch: 1. Train loss: 0.028581, Train acc: 1701.342282, Test loss: 0.001489, Test acc: 1394.697987\n",
      "Epoch: 2. Train loss: 0.028197, Train acc: 1726.577181, Test loss: 0.001485, Test acc: 1388.053691\n",
      "Epoch: 3. Train loss: 0.028068, Train acc: 1743.870246, Test loss: 0.001476, Test acc: 1582.751678\n",
      "Epoch: 4. Train loss: 0.027954, Train acc: 1769.977629, Test loss: 0.001471, Test acc: 1579.328859\n",
      "Epoch: 5. Train loss: 0.027895, Train acc: 1777.248322, Test loss: 0.001467, Test acc: 1632.281879\n",
      "Epoch: 6. Train loss: 0.027852, Train acc: 1782.885906, Test loss: 0.001464, Test acc: 1660.335570\n",
      "Epoch: 7. Train loss: 0.027822, Train acc: 1784.563758, Test loss: 0.001463, Test acc: 1756.711409\n",
      "Epoch: 8. Train loss: 0.027799, Train acc: 1786.532438, Test loss: 0.001461, Test acc: 1760.805369\n",
      "Epoch: 9. Train loss: 0.027783, Train acc: 1786.420582, Test loss: 0.001460, Test acc: 1805.033557\n",
      "Epoch: 10. Train loss: 0.027767, Train acc: 1787.472036, Test loss: 0.001459, Test acc: 1805.704698\n",
      "Epoch: 11. Train loss: 0.027753, Train acc: 1787.651007, Test loss: 0.001458, Test acc: 1821.275168\n",
      "Epoch: 12. Train loss: 0.027741, Train acc: 1788.970917, Test loss: 0.001457, Test acc: 1822.013423\n",
      "Epoch: 13. Train loss: 0.027730, Train acc: 1789.574944, Test loss: 0.001456, Test acc: 1822.348993\n",
      "Epoch: 14. Train loss: 0.027721, Train acc: 1793.624161, Test loss: 0.001455, Test acc: 1822.348993\n",
      "Epoch: 15. Train loss: 0.027715, Train acc: 1796.107383, Test loss: 0.001455, Test acc: 1822.818792\n",
      "Epoch: 16. Train loss: 0.027758, Train acc: 1789.395973, Test loss: 0.001458, Test acc: 1822.348993\n",
      "Epoch: 17. Train loss: 0.027709, Train acc: 1800.201342, Test loss: 0.001454, Test acc: 1822.818792\n",
      "Epoch: 18. Train loss: 0.027695, Train acc: 1803.512304, Test loss: 0.001455, Test acc: 1822.818792\n",
      "Epoch: 19. Train loss: 0.027693, Train acc: 1806.644295, Test loss: 0.001454, Test acc: 1822.818792\n",
      "Epoch: 20. Train loss: 0.027688, Train acc: 1808.545861, Test loss: 0.001454, Test acc: 1822.818792\n",
      "Epoch: 21. Train loss: 0.027687, Train acc: 1810.738255, Test loss: 0.001455, Test acc: 1822.818792\n",
      "Epoch: 22. Train loss: 0.027683, Train acc: 1813.982103, Test loss: 0.001454, Test acc: 1822.818792\n",
      "Epoch: 23. Train loss: 0.027680, Train acc: 1817.046980, Test loss: 0.001454, Test acc: 1822.818792\n",
      "Epoch: 24. Train loss: 0.027678, Train acc: 1818.411633, Test loss: 0.001453, Test acc: 1822.818792\n",
      "Epoch: 25. Train loss: 0.027679, Train acc: 1821.789709, Test loss: 0.001453, Test acc: 1822.818792\n",
      "Epoch: 26. Train loss: 0.027678, Train acc: 1825.592841, Test loss: 0.001453, Test acc: 1822.818792\n",
      "Epoch: 27. Train loss: 0.027672, Train acc: 1825.950783, Test loss: 0.001453, Test acc: 1822.818792\n",
      "Epoch: 28. Train loss: 0.027671, Train acc: 1827.360179, Test loss: 0.001452, Test acc: 1822.818792\n",
      "Epoch: 29. Train loss: 0.027670, Train acc: 1827.762864, Test loss: 0.001452, Test acc: 1822.818792\n",
      "Epoch: 30. Train loss: 0.027668, Train acc: 1827.762864, Test loss: 0.001452, Test acc: 1822.818792\n",
      "Epoch: 31. Train loss: 0.027667, Train acc: 1827.762864, Test loss: 0.001452, Test acc: 1822.818792\n",
      "Epoch: 32. Train loss: 0.027665, Train acc: 1827.762864, Test loss: 0.001451, Test acc: 1822.818792\n",
      "Epoch: 33. Train loss: 0.027664, Train acc: 1827.762864, Test loss: 0.001451, Test acc: 1822.818792\n",
      "Epoch: 34. Train loss: 0.027663, Train acc: 1827.762864, Test loss: 0.001451, Test acc: 1822.818792\n",
      "Epoch: 35. Train loss: 0.027663, Train acc: 1827.628635, Test loss: 0.001451, Test acc: 1822.818792\n",
      "Epoch: 36. Train loss: 0.027659, Train acc: 1827.762864, Test loss: 0.001450, Test acc: 1822.818792\n",
      "Epoch: 37. Train loss: 0.027658, Train acc: 1827.762864, Test loss: 0.001450, Test acc: 1822.818792\n",
      "Epoch: 38. Train loss: 0.027656, Train acc: 1827.762864, Test loss: 0.001450, Test acc: 1822.953020\n",
      "Epoch: 39. Train loss: 0.027658, Train acc: 1827.762864, Test loss: 0.001450, Test acc: 1822.953020\n",
      "Epoch: 40. Train loss: 0.027657, Train acc: 1827.762864, Test loss: 0.001450, Test acc: 1822.953020\n",
      "Epoch: 41. Train loss: 0.027657, Train acc: 1827.628635, Test loss: 0.001450, Test acc: 1822.751678\n",
      "Epoch: 42. Train loss: 0.027657, Train acc: 1827.762864, Test loss: 0.001450, Test acc: 1822.953020\n",
      "Epoch: 43. Train loss: 0.027657, Train acc: 1827.628635, Test loss: 0.001450, Test acc: 1822.953020\n",
      "Epoch: 44. Train loss: 0.027657, Train acc: 1827.628635, Test loss: 0.001450, Test acc: 1822.953020\n",
      "Epoch: 45. Train loss: 0.027657, Train acc: 1827.628635, Test loss: 0.001450, Test acc: 1822.953020\n",
      "Epoch: 46. Train loss: 0.027657, Train acc: 1827.628635, Test loss: 0.001450, Test acc: 1822.953020\n",
      "Epoch: 47. Train loss: 0.027657, Train acc: 1827.628635, Test loss: 0.001450, Test acc: 1822.953020\n",
      "Epoch: 48. Train loss: 0.027657, Train acc: 1827.628635, Test loss: 0.001450, Test acc: 1822.953020\n",
      "Epoch: 49. Train loss: 0.027656, Train acc: 1827.628635, Test loss: 0.001450, Test acc: 1822.953020\n",
      "Epoch: 50. Train loss: 0.027656, Train acc: 1827.628635, Test loss: 0.001450, Test acc: 1822.953020\n"
     ]
    }
   ],
   "source": [
    "# Specify the loss criteria (we'll use CrossEntropyLoss for multi-class classification)\n",
    "# loss_criteria = nn.CrossEntropyLoss()\n",
    "loss_criteria = nn.MSELoss()\n",
    "# Use an \"Adam\" optimizer to adjust weights\n",
    "# (see https://pytorch.org/docs/stable/optim.html#algorithms for details of supported algorithms)\n",
    "learning_rate = 5e-3\n",
    "net = ShauryaNet()\n",
    "optimizer = torch.optim.Adam(net.parameters(), lr=learning_rate)\n",
    "optimizer.zero_grad()\n",
    "\n",
    "# We'll track metrics for each epoch in these arrays\n",
    "epoch_nums = []\n",
    "training_loss = []\n",
    "validation_loss = []\n",
    "\n",
    "# Train over 50 epochs\n",
    "epochs = 50\n",
    "# pbar = tqdm()\n",
    "\n",
    "for epoch in range(1, epochs + 1):\n",
    "\n",
    "    # print the epoch number\n",
    "    \n",
    "    # Feed training data into the model to optimize the weights\n",
    "    train_loss, train_acc = train(net, train_loader, optimizer, loss_criteria)\n",
    "    \n",
    "    # Feed the test data into the model to check its performance\n",
    "    test_loss, test_acc = test(net, test_loader, loss_criteria)\n",
    "    \n",
    "    # Log the metrics for this epoch\n",
    "    epoch_nums.append(epoch)\n",
    "    training_loss.append(train_loss)\n",
    "    validation_loss.append(test_loss)\n",
    "    s = f'Epoch: {epoch}. Train loss: {train_loss:0.6f}, Train acc: {train_acc:.6f}, Test loss: {test_loss:0.6f}, Test acc: {test_acc:0.6f}'\n",
    "    print(s)\n",
    "    "
   ]
  },
  {
   "cell_type": "markdown",
   "id": "6e517be2",
   "metadata": {},
   "source": [
    "### "
   ]
  },
  {
   "cell_type": "code",
   "execution_count": null,
   "id": "235539fe",
   "metadata": {},
   "outputs": [],
   "source": [
    "print('hello')"
   ]
  }
 ],
 "metadata": {
  "kernelspec": {
   "display_name": "Python 3 (ipykernel)",
   "language": "python",
   "name": "python3"
  },
  "language_info": {
   "codemirror_mode": {
    "name": "ipython",
    "version": 3
   },
   "file_extension": ".py",
   "mimetype": "text/x-python",
   "name": "python",
   "nbconvert_exporter": "python",
   "pygments_lexer": "ipython3",
   "version": "3.9.12"
  }
 },
 "nbformat": 4,
 "nbformat_minor": 5
}
