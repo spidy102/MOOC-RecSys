{
 "cells": [
  {
   "cell_type": "code",
   "execution_count": 23,
   "id": "51f3b374",
   "metadata": {},
   "outputs": [],
   "source": [
    "import pandas as pd, numpy as np, matplotlib.pyplot as plt"
   ]
  },
  {
   "cell_type": "code",
   "execution_count": 2,
   "id": "b5a604a6",
   "metadata": {},
   "outputs": [],
   "source": [
    "from sklearn.cluster import KMeans"
   ]
  },
  {
   "cell_type": "code",
   "execution_count": 3,
   "id": "76521a67",
   "metadata": {},
   "outputs": [],
   "source": [
    "df = pd.read_csv(\"stanfordMOOCForumPostsSet.csv\")"
   ]
  },
  {
   "cell_type": "code",
   "execution_count": 4,
   "id": "f1f1d77d",
   "metadata": {},
   "outputs": [
    {
     "data": {
      "text/html": [
       "<div>\n",
       "<style scoped>\n",
       "    .dataframe tbody tr th:only-of-type {\n",
       "        vertical-align: middle;\n",
       "    }\n",
       "\n",
       "    .dataframe tbody tr th {\n",
       "        vertical-align: top;\n",
       "    }\n",
       "\n",
       "    .dataframe thead th {\n",
       "        text-align: right;\n",
       "    }\n",
       "</style>\n",
       "<table border=\"1\" class=\"dataframe\">\n",
       "  <thead>\n",
       "    <tr style=\"text-align: right;\">\n",
       "      <th></th>\n",
       "      <th>Text</th>\n",
       "      <th>Opinion(1/0)</th>\n",
       "      <th>Question(1/0)</th>\n",
       "      <th>Answer(1/0)</th>\n",
       "      <th>Sentiment(1-7)</th>\n",
       "      <th>Confusion(1-7)</th>\n",
       "      <th>Urgency(1-7)</th>\n",
       "      <th>CourseType</th>\n",
       "      <th>forum_post_id</th>\n",
       "      <th>course_display_name</th>\n",
       "      <th>forum_uid</th>\n",
       "      <th>created_at</th>\n",
       "      <th>post_type</th>\n",
       "      <th>anonymous</th>\n",
       "      <th>anonymous_to_peers</th>\n",
       "      <th>up_count</th>\n",
       "      <th>comment_thread_id</th>\n",
       "      <th>reads</th>\n",
       "    </tr>\n",
       "  </thead>\n",
       "  <tbody>\n",
       "    <tr>\n",
       "      <th>0</th>\n",
       "      <td>Interesting! How often we say those things to ...</td>\n",
       "      <td>1</td>\n",
       "      <td>0</td>\n",
       "      <td>0</td>\n",
       "      <td>6.5</td>\n",
       "      <td>2.0</td>\n",
       "      <td>1.5</td>\n",
       "      <td>Education</td>\n",
       "      <td>5225177f2c501f0a00000015</td>\n",
       "      <td>Education/EDUC115N/How_to_Learn_Math</td>\n",
       "      <td>30CADB93E6DE4711193D7BD05F2AE95C</td>\n",
       "      <td>02-09-2013 22:55</td>\n",
       "      <td>Comment</td>\n",
       "      <td>False</td>\n",
       "      <td>False</td>\n",
       "      <td>0.0</td>\n",
       "      <td>5221a8262cfae31200000001</td>\n",
       "      <td>41.0</td>\n",
       "    </tr>\n",
       "    <tr>\n",
       "      <th>1</th>\n",
       "      <td>What is \\Algebra as a Math Game\\\" or are you j...</td>\n",
       "      <td>0</td>\n",
       "      <td>1</td>\n",
       "      <td>0</td>\n",
       "      <td>4.0</td>\n",
       "      <td>5.0</td>\n",
       "      <td>3.5</td>\n",
       "      <td>Education</td>\n",
       "      <td>5207d0e9935dfc0e0000005e</td>\n",
       "      <td>Education/EDUC115N/How_to_Learn_Math</td>\n",
       "      <td>37D8FAEE7D0B94B6CFC57D98FD3D0BA5</td>\n",
       "      <td>11-08-2013 17:59</td>\n",
       "      <td>Comment</td>\n",
       "      <td>False</td>\n",
       "      <td>False</td>\n",
       "      <td>0.0</td>\n",
       "      <td>520663839df35b0a00000043</td>\n",
       "      <td>55.0</td>\n",
       "    </tr>\n",
       "    <tr>\n",
       "      <th>2</th>\n",
       "      <td>I like the idea of my kids principal who says ...</td>\n",
       "      <td>1</td>\n",
       "      <td>0</td>\n",
       "      <td>0</td>\n",
       "      <td>5.5</td>\n",
       "      <td>3.0</td>\n",
       "      <td>2.5</td>\n",
       "      <td>Education</td>\n",
       "      <td>52052c82d01fec0a00000071</td>\n",
       "      <td>Education/EDUC115N/How_to_Learn_Math</td>\n",
       "      <td>CC11480215042B3EB6E5905EAB13B733</td>\n",
       "      <td>09-08-2013 17:53</td>\n",
       "      <td>Comment</td>\n",
       "      <td>False</td>\n",
       "      <td>False</td>\n",
       "      <td>0.0</td>\n",
       "      <td>51e59415e339d716000001a6</td>\n",
       "      <td>25.0</td>\n",
       "    </tr>\n",
       "    <tr>\n",
       "      <th>3</th>\n",
       "      <td>From their responses, it seems the students re...</td>\n",
       "      <td>1</td>\n",
       "      <td>0</td>\n",
       "      <td>0</td>\n",
       "      <td>6.0</td>\n",
       "      <td>3.0</td>\n",
       "      <td>2.5</td>\n",
       "      <td>Education</td>\n",
       "      <td>5240a45e067ebf1200000008</td>\n",
       "      <td>Education/EDUC115N/How_to_Learn_Math</td>\n",
       "      <td>C717F838D10E8256D7C88B33C43623F1</td>\n",
       "      <td>23-09-2013 20:28</td>\n",
       "      <td>CommentThread</td>\n",
       "      <td>False</td>\n",
       "      <td>False</td>\n",
       "      <td>0.0</td>\n",
       "      <td>None</td>\n",
       "      <td>0.0</td>\n",
       "    </tr>\n",
       "    <tr>\n",
       "      <th>4</th>\n",
       "      <td>The boys loved math, because \\there is freedom...</td>\n",
       "      <td>1</td>\n",
       "      <td>0</td>\n",
       "      <td>0</td>\n",
       "      <td>7.0</td>\n",
       "      <td>2.0</td>\n",
       "      <td>3.0</td>\n",
       "      <td>Education</td>\n",
       "      <td>5212c5e2dd10251500000062</td>\n",
       "      <td>Education/EDUC115N/How_to_Learn_Math</td>\n",
       "      <td>F83887D68EA48964687C6441782CDD0E</td>\n",
       "      <td>20-08-2013 01:26</td>\n",
       "      <td>CommentThread</td>\n",
       "      <td>False</td>\n",
       "      <td>False</td>\n",
       "      <td>0.0</td>\n",
       "      <td>None</td>\n",
       "      <td>3.0</td>\n",
       "    </tr>\n",
       "  </tbody>\n",
       "</table>\n",
       "</div>"
      ],
      "text/plain": [
       "                                                Text  Opinion(1/0)  \\\n",
       "0  Interesting! How often we say those things to ...             1   \n",
       "1  What is \\Algebra as a Math Game\\\" or are you j...             0   \n",
       "2  I like the idea of my kids principal who says ...             1   \n",
       "3  From their responses, it seems the students re...             1   \n",
       "4  The boys loved math, because \\there is freedom...             1   \n",
       "\n",
       "   Question(1/0)  Answer(1/0)  Sentiment(1-7)  Confusion(1-7)  Urgency(1-7)  \\\n",
       "0              0            0             6.5             2.0           1.5   \n",
       "1              1            0             4.0             5.0           3.5   \n",
       "2              0            0             5.5             3.0           2.5   \n",
       "3              0            0             6.0             3.0           2.5   \n",
       "4              0            0             7.0             2.0           3.0   \n",
       "\n",
       "  CourseType             forum_post_id                   course_display_name  \\\n",
       "0  Education  5225177f2c501f0a00000015  Education/EDUC115N/How_to_Learn_Math   \n",
       "1  Education  5207d0e9935dfc0e0000005e  Education/EDUC115N/How_to_Learn_Math   \n",
       "2  Education  52052c82d01fec0a00000071  Education/EDUC115N/How_to_Learn_Math   \n",
       "3  Education  5240a45e067ebf1200000008  Education/EDUC115N/How_to_Learn_Math   \n",
       "4  Education  5212c5e2dd10251500000062  Education/EDUC115N/How_to_Learn_Math   \n",
       "\n",
       "                          forum_uid        created_at      post_type  \\\n",
       "0  30CADB93E6DE4711193D7BD05F2AE95C  02-09-2013 22:55        Comment   \n",
       "1  37D8FAEE7D0B94B6CFC57D98FD3D0BA5  11-08-2013 17:59        Comment   \n",
       "2  CC11480215042B3EB6E5905EAB13B733  09-08-2013 17:53        Comment   \n",
       "3  C717F838D10E8256D7C88B33C43623F1  23-09-2013 20:28  CommentThread   \n",
       "4  F83887D68EA48964687C6441782CDD0E  20-08-2013 01:26  CommentThread   \n",
       "\n",
       "  anonymous anonymous_to_peers  up_count         comment_thread_id  reads  \n",
       "0     False              False       0.0  5221a8262cfae31200000001   41.0  \n",
       "1     False              False       0.0  520663839df35b0a00000043   55.0  \n",
       "2     False              False       0.0  51e59415e339d716000001a6   25.0  \n",
       "3     False              False       0.0                      None    0.0  \n",
       "4     False              False       0.0                      None    3.0  "
      ]
     },
     "execution_count": 4,
     "metadata": {},
     "output_type": "execute_result"
    }
   ],
   "source": [
    "df.head()"
   ]
  },
  {
   "cell_type": "code",
   "execution_count": 79,
   "id": "0c266a03",
   "metadata": {},
   "outputs": [
    {
     "data": {
      "text/plain": [
       "array(['Education/EDUC115N/How_to_Learn_Math',\n",
       "       'HumanitiesScience/Stats216/Winter2014',\n",
       "       'HumanitiesSciences/EP101/Environmental_Physiology',\n",
       "       'HumanitiesScience/StatLearning/Winter2014',\n",
       "       'GlobalHealth/WomensHealth/Winter2014',\n",
       "       'HumanitiesSciences/Econ1V/Summer2014',\n",
       "       'HumanitiesSciences/Econ-1/Summer2014', nan,\n",
       "       'Medicine/HRP258/Statistics_in_Medicine',\n",
       "       'Medicine/SciWrite/Fall2013',\n",
       "       'Medicine/SURG210/Managing_Emergencies_What_Every_Doctor_Must_Know',\n",
       "       'Medicine/MedStats/Summer2014'], dtype=object)"
      ]
     },
     "execution_count": 79,
     "metadata": {},
     "output_type": "execute_result"
    }
   ],
   "source": [
    "df['course_display_name'].unique()"
   ]
  },
  {
   "cell_type": "code",
   "execution_count": 80,
   "id": "814f1c42",
   "metadata": {},
   "outputs": [
    {
     "data": {
      "text/plain": [
       "array(['Education', nan, 'Humanities', 'Medicine'], dtype=object)"
      ]
     },
     "execution_count": 80,
     "metadata": {},
     "output_type": "execute_result"
    }
   ],
   "source": [
    "df['CourseType'].unique()"
   ]
  },
  {
   "cell_type": "code",
   "execution_count": 87,
   "id": "c9751c15",
   "metadata": {},
   "outputs": [
    {
     "name": "stderr",
     "output_type": "stream",
     "text": [
      "C:\\Users\\HP\\AppData\\Local\\Temp\\ipykernel_17384\\2890159968.py:1: UserWarning: Boolean Series key will be reindexed to match DataFrame index.\n",
      "  len(df[df['Question(1/0)']==1][df['Opinion(1/0)']==1])\n"
     ]
    },
    {
     "data": {
      "text/plain": [
       "1325"
      ]
     },
     "execution_count": 87,
     "metadata": {},
     "output_type": "execute_result"
    }
   ],
   "source": [
    "len(df[df['Question(1/0)']==1][df['Opinion(1/0)']==1])"
   ]
  },
  {
   "cell_type": "code",
   "execution_count": 88,
   "id": "6168e340",
   "metadata": {},
   "outputs": [],
   "source": [
    "partset = df[df['Question(1/0)']==1][['Urgency(1-7)','up_count','reads','Confusion(1-7)','Opinion(1/0)']]"
   ]
  },
  {
   "cell_type": "code",
   "execution_count": 89,
   "id": "b00da503",
   "metadata": {},
   "outputs": [
    {
     "data": {
      "text/html": [
       "<div>\n",
       "<style scoped>\n",
       "    .dataframe tbody tr th:only-of-type {\n",
       "        vertical-align: middle;\n",
       "    }\n",
       "\n",
       "    .dataframe tbody tr th {\n",
       "        vertical-align: top;\n",
       "    }\n",
       "\n",
       "    .dataframe thead th {\n",
       "        text-align: right;\n",
       "    }\n",
       "</style>\n",
       "<table border=\"1\" class=\"dataframe\">\n",
       "  <thead>\n",
       "    <tr style=\"text-align: right;\">\n",
       "      <th></th>\n",
       "      <th>Urgency(1-7)</th>\n",
       "      <th>up_count</th>\n",
       "      <th>reads</th>\n",
       "      <th>Confusion(1-7)</th>\n",
       "      <th>Opinion(1/0)</th>\n",
       "    </tr>\n",
       "  </thead>\n",
       "  <tbody>\n",
       "    <tr>\n",
       "      <th>count</th>\n",
       "      <td>5959.000000</td>\n",
       "      <td>5957.000000</td>\n",
       "      <td>5957.000000</td>\n",
       "      <td>5959.000000</td>\n",
       "      <td>5959.000000</td>\n",
       "    </tr>\n",
       "    <tr>\n",
       "      <th>mean</th>\n",
       "      <td>4.602786</td>\n",
       "      <td>0.506463</td>\n",
       "      <td>369.893906</td>\n",
       "      <td>4.526850</td>\n",
       "      <td>0.222353</td>\n",
       "    </tr>\n",
       "    <tr>\n",
       "      <th>std</th>\n",
       "      <td>1.169059</td>\n",
       "      <td>1.716520</td>\n",
       "      <td>980.799964</td>\n",
       "      <td>0.656481</td>\n",
       "      <td>0.415862</td>\n",
       "    </tr>\n",
       "    <tr>\n",
       "      <th>min</th>\n",
       "      <td>1.000000</td>\n",
       "      <td>0.000000</td>\n",
       "      <td>0.000000</td>\n",
       "      <td>2.000000</td>\n",
       "      <td>0.000000</td>\n",
       "    </tr>\n",
       "    <tr>\n",
       "      <th>25%</th>\n",
       "      <td>4.000000</td>\n",
       "      <td>0.000000</td>\n",
       "      <td>47.000000</td>\n",
       "      <td>4.000000</td>\n",
       "      <td>0.000000</td>\n",
       "    </tr>\n",
       "    <tr>\n",
       "      <th>50%</th>\n",
       "      <td>5.000000</td>\n",
       "      <td>0.000000</td>\n",
       "      <td>94.000000</td>\n",
       "      <td>4.500000</td>\n",
       "      <td>0.000000</td>\n",
       "    </tr>\n",
       "    <tr>\n",
       "      <th>75%</th>\n",
       "      <td>5.500000</td>\n",
       "      <td>0.000000</td>\n",
       "      <td>232.000000</td>\n",
       "      <td>5.000000</td>\n",
       "      <td>0.000000</td>\n",
       "    </tr>\n",
       "    <tr>\n",
       "      <th>max</th>\n",
       "      <td>7.000000</td>\n",
       "      <td>46.000000</td>\n",
       "      <td>9452.000000</td>\n",
       "      <td>7.000000</td>\n",
       "      <td>1.000000</td>\n",
       "    </tr>\n",
       "  </tbody>\n",
       "</table>\n",
       "</div>"
      ],
      "text/plain": [
       "       Urgency(1-7)     up_count        reads  Confusion(1-7)  Opinion(1/0)\n",
       "count   5959.000000  5957.000000  5957.000000     5959.000000   5959.000000\n",
       "mean       4.602786     0.506463   369.893906        4.526850      0.222353\n",
       "std        1.169059     1.716520   980.799964        0.656481      0.415862\n",
       "min        1.000000     0.000000     0.000000        2.000000      0.000000\n",
       "25%        4.000000     0.000000    47.000000        4.000000      0.000000\n",
       "50%        5.000000     0.000000    94.000000        4.500000      0.000000\n",
       "75%        5.500000     0.000000   232.000000        5.000000      0.000000\n",
       "max        7.000000    46.000000  9452.000000        7.000000      1.000000"
      ]
     },
     "execution_count": 89,
     "metadata": {},
     "output_type": "execute_result"
    }
   ],
   "source": [
    "partset.describe()"
   ]
  },
  {
   "cell_type": "code",
   "execution_count": 92,
   "id": "b34849d6",
   "metadata": {},
   "outputs": [],
   "source": [
    "temp = partset"
   ]
  },
  {
   "cell_type": "code",
   "execution_count": 94,
   "id": "fa5b95a9",
   "metadata": {},
   "outputs": [],
   "source": [
    "temp['up_count']/=max(partset['up_count'])"
   ]
  },
  {
   "cell_type": "code",
   "execution_count": 97,
   "id": "de2d4ce9",
   "metadata": {},
   "outputs": [],
   "source": [
    "temp['reads']/=max(partset['reads'])"
   ]
  },
  {
   "cell_type": "code",
   "execution_count": 101,
   "id": "b9c4b8ba",
   "metadata": {},
   "outputs": [],
   "source": [
    "temp['Confusion(1-7)']/=max(partset['Confusion(1-7)'])\n",
    "temp['Urgency(1-7)']/=max(partset['Urgency(1-7)'])"
   ]
  },
  {
   "cell_type": "code",
   "execution_count": 102,
   "id": "3e02cac0",
   "metadata": {},
   "outputs": [
    {
     "data": {
      "text/html": [
       "<div>\n",
       "<style scoped>\n",
       "    .dataframe tbody tr th:only-of-type {\n",
       "        vertical-align: middle;\n",
       "    }\n",
       "\n",
       "    .dataframe tbody tr th {\n",
       "        vertical-align: top;\n",
       "    }\n",
       "\n",
       "    .dataframe thead th {\n",
       "        text-align: right;\n",
       "    }\n",
       "</style>\n",
       "<table border=\"1\" class=\"dataframe\">\n",
       "  <thead>\n",
       "    <tr style=\"text-align: right;\">\n",
       "      <th></th>\n",
       "      <th>Urgency(1-7)</th>\n",
       "      <th>up_count</th>\n",
       "      <th>reads</th>\n",
       "      <th>Confusion(1-7)</th>\n",
       "      <th>Opinion(1/0)</th>\n",
       "    </tr>\n",
       "  </thead>\n",
       "  <tbody>\n",
       "    <tr>\n",
       "      <th>count</th>\n",
       "      <td>5959.000000</td>\n",
       "      <td>5957.000000</td>\n",
       "      <td>5957.000000</td>\n",
       "      <td>5959.000000</td>\n",
       "      <td>5959.000000</td>\n",
       "    </tr>\n",
       "    <tr>\n",
       "      <th>mean</th>\n",
       "      <td>0.657541</td>\n",
       "      <td>0.011010</td>\n",
       "      <td>0.039134</td>\n",
       "      <td>0.646693</td>\n",
       "      <td>0.222353</td>\n",
       "    </tr>\n",
       "    <tr>\n",
       "      <th>std</th>\n",
       "      <td>0.167008</td>\n",
       "      <td>0.037316</td>\n",
       "      <td>0.103766</td>\n",
       "      <td>0.093783</td>\n",
       "      <td>0.415862</td>\n",
       "    </tr>\n",
       "    <tr>\n",
       "      <th>min</th>\n",
       "      <td>0.142857</td>\n",
       "      <td>0.000000</td>\n",
       "      <td>0.000000</td>\n",
       "      <td>0.285714</td>\n",
       "      <td>0.000000</td>\n",
       "    </tr>\n",
       "    <tr>\n",
       "      <th>25%</th>\n",
       "      <td>0.571429</td>\n",
       "      <td>0.000000</td>\n",
       "      <td>0.004972</td>\n",
       "      <td>0.571429</td>\n",
       "      <td>0.000000</td>\n",
       "    </tr>\n",
       "    <tr>\n",
       "      <th>50%</th>\n",
       "      <td>0.714286</td>\n",
       "      <td>0.000000</td>\n",
       "      <td>0.009945</td>\n",
       "      <td>0.642857</td>\n",
       "      <td>0.000000</td>\n",
       "    </tr>\n",
       "    <tr>\n",
       "      <th>75%</th>\n",
       "      <td>0.785714</td>\n",
       "      <td>0.000000</td>\n",
       "      <td>0.024545</td>\n",
       "      <td>0.714286</td>\n",
       "      <td>0.000000</td>\n",
       "    </tr>\n",
       "    <tr>\n",
       "      <th>max</th>\n",
       "      <td>1.000000</td>\n",
       "      <td>1.000000</td>\n",
       "      <td>1.000000</td>\n",
       "      <td>1.000000</td>\n",
       "      <td>1.000000</td>\n",
       "    </tr>\n",
       "  </tbody>\n",
       "</table>\n",
       "</div>"
      ],
      "text/plain": [
       "       Urgency(1-7)     up_count        reads  Confusion(1-7)  Opinion(1/0)\n",
       "count   5959.000000  5957.000000  5957.000000     5959.000000   5959.000000\n",
       "mean       0.657541     0.011010     0.039134        0.646693      0.222353\n",
       "std        0.167008     0.037316     0.103766        0.093783      0.415862\n",
       "min        0.142857     0.000000     0.000000        0.285714      0.000000\n",
       "25%        0.571429     0.000000     0.004972        0.571429      0.000000\n",
       "50%        0.714286     0.000000     0.009945        0.642857      0.000000\n",
       "75%        0.785714     0.000000     0.024545        0.714286      0.000000\n",
       "max        1.000000     1.000000     1.000000        1.000000      1.000000"
      ]
     },
     "execution_count": 102,
     "metadata": {},
     "output_type": "execute_result"
    }
   ],
   "source": [
    "temp.describe()"
   ]
  },
  {
   "cell_type": "code",
   "execution_count": 203,
   "id": "d4b5c113",
   "metadata": {},
   "outputs": [],
   "source": [
    "Y = temp['Urgency(1-7)']"
   ]
  },
  {
   "cell_type": "code",
   "execution_count": 204,
   "id": "82fa438c",
   "metadata": {},
   "outputs": [],
   "source": [
    "X = temp[['up_count','reads','Confusion(1-7)','Opinion(1/0)']]"
   ]
  },
  {
   "cell_type": "code",
   "execution_count": 205,
   "id": "3810350e",
   "metadata": {},
   "outputs": [],
   "source": [
    "from sklearn.decomposition import PCA"
   ]
  },
  {
   "cell_type": "code",
   "execution_count": 206,
   "id": "9e2313c5",
   "metadata": {},
   "outputs": [],
   "source": [
    "X = X.fillna(0)"
   ]
  },
  {
   "cell_type": "code",
   "execution_count": 207,
   "id": "163520ae",
   "metadata": {},
   "outputs": [
    {
     "data": {
      "text/plain": [
       "up_count          0\n",
       "reads             0\n",
       "Confusion(1-7)    0\n",
       "Opinion(1/0)      0\n",
       "dtype: int64"
      ]
     },
     "execution_count": 207,
     "metadata": {},
     "output_type": "execute_result"
    }
   ],
   "source": [
    "X.isnull().sum()"
   ]
  },
  {
   "cell_type": "code",
   "execution_count": 41,
   "id": "6cc7c637",
   "metadata": {},
   "outputs": [],
   "source": [
    "X_reduced = PCA().fit_transform(X)"
   ]
  },
  {
   "cell_type": "code",
   "execution_count": 90,
   "id": "0d844bcd",
   "metadata": {},
   "outputs": [
    {
     "data": {
      "text/plain": [
       "array([[-314.76982896,   -0.45312356,   -0.48113023],\n",
       "       [-349.76982846,   -0.447281  ,   -0.48194334],\n",
       "       [-352.76981669,   -0.44612032,   -0.9820126 ],\n",
       "       ...,\n",
       "       [-319.76970889,    0.54507064,    1.52007165],\n",
       "       [-225.76983022,   -0.46798033,   -0.47906263],\n",
       "       [-166.76983106,   -0.47782921,   -0.47769196]])"
      ]
     },
     "execution_count": 90,
     "metadata": {},
     "output_type": "execute_result"
    }
   ],
   "source": [
    "X_reduced"
   ]
  },
  {
   "cell_type": "code",
   "execution_count": 16,
   "id": "df53b69e",
   "metadata": {},
   "outputs": [],
   "source": [
    "km = KMeans(n_clusters=13,n_init=10,max_iter=300,tol=1e-04,random_state=0)"
   ]
  },
  {
   "cell_type": "code",
   "execution_count": 109,
   "id": "d807ec50",
   "metadata": {},
   "outputs": [],
   "source": [
    "from sklearn.model_selection import train_test_split"
   ]
  },
  {
   "cell_type": "code",
   "execution_count": 213,
   "id": "bd5e12b4",
   "metadata": {},
   "outputs": [],
   "source": [
    "X_train, x_test, Y_train, y_test = train_test_split(X,Y)\n"
   ]
  },
  {
   "cell_type": "code",
   "execution_count": 214,
   "id": "c09cf8ff",
   "metadata": {},
   "outputs": [
    {
     "name": "stdout",
     "output_type": "stream",
     "text": [
      "          up_count        reads  Confusion(1-7)  Opinion(1/0)\n",
      "count  4469.000000  4469.000000     4469.000000   4469.000000\n",
      "mean      0.011033     0.038974        0.647700      0.218841\n",
      "std       0.036496     0.100860        0.094572      0.413507\n",
      "min       0.000000     0.000000        0.285714      0.000000\n",
      "25%       0.000000     0.005078        0.571429      0.000000\n",
      "50%       0.000000     0.010051        0.642857      0.000000\n",
      "75%       0.000000     0.025286        0.714286      0.000000\n",
      "max       0.978261     1.000000        1.000000      1.000000\n"
     ]
    }
   ],
   "source": [
    "print(X_train.describe())\n",
    "X_train = X_train.values\n",
    "x_test = x_test.values\n",
    "Y_train = Y_train.values\n",
    "y_test = y_test.values"
   ]
  },
  {
   "cell_type": "code",
   "execution_count": 103,
   "id": "9bf77366",
   "metadata": {},
   "outputs": [],
   "source": [
    "from sklearn.linear_model import LinearRegression"
   ]
  },
  {
   "cell_type": "code",
   "execution_count": null,
   "id": "f6c8f300",
   "metadata": {},
   "outputs": [],
   "source": []
  },
  {
   "cell_type": "code",
   "execution_count": 104,
   "id": "e50771f3",
   "metadata": {},
   "outputs": [],
   "source": [
    "model = LinearRegression()"
   ]
  },
  {
   "cell_type": "code",
   "execution_count": 111,
   "id": "3056c87b",
   "metadata": {},
   "outputs": [
    {
     "data": {
      "text/plain": [
       "LinearRegression()"
      ]
     },
     "execution_count": 111,
     "metadata": {},
     "output_type": "execute_result"
    }
   ],
   "source": [
    "model.fit(X_train,Y_train)"
   ]
  },
  {
   "cell_type": "code",
   "execution_count": 112,
   "id": "73f2f5e9",
   "metadata": {},
   "outputs": [],
   "source": [
    "y_pred = model.predict(x_test)"
   ]
  },
  {
   "cell_type": "code",
   "execution_count": 113,
   "id": "80c8cc63",
   "metadata": {},
   "outputs": [
    {
     "name": "stdout",
     "output_type": "stream",
     "text": [
      "r2 socre is  0.2366995779427632\n",
      "mean_sqrd_error is== 0.021121903665015537\n",
      "root_mean_squared error of is== 0.14533376643098306\n"
     ]
    }
   ],
   "source": [
    "from sklearn.metrics import r2_score\n",
    "from sklearn.metrics import mean_squared_error\n",
    "score=r2_score(y_test,y_pred)\n",
    "print('r2 socre is ',score)\n",
    "print('mean_sqrd_error is==',mean_squared_error(y_test,y_pred))\n",
    "print('root_mean_squared error of is==',np.sqrt(mean_squared_error(y_test,y_pred)))"
   ]
  },
  {
   "cell_type": "code",
   "execution_count": 59,
   "id": "0767d6b7",
   "metadata": {},
   "outputs": [
    {
     "data": {
      "text/plain": [
       "KMeans(n_clusters=13, random_state=0)"
      ]
     },
     "execution_count": 59,
     "metadata": {},
     "output_type": "execute_result"
    }
   ],
   "source": [
    "km.fit(X_reduced)"
   ]
  },
  {
   "cell_type": "code",
   "execution_count": 65,
   "id": "e388cf52",
   "metadata": {},
   "outputs": [
    {
     "data": {
      "text/plain": [
       "1        3.5\n",
       "22       3.5\n",
       "33       4.5\n",
       "46       2.5\n",
       "50       5.0\n",
       "        ... \n",
       "29593    5.5\n",
       "29596    3.0\n",
       "29598    1.0\n",
       "29601    5.5\n",
       "29602    5.5\n",
       "Name: Urgency(1-7), Length: 5959, dtype: float64"
      ]
     },
     "execution_count": 65,
     "metadata": {},
     "output_type": "execute_result"
    }
   ],
   "source": [
    "Y"
   ]
  },
  {
   "cell_type": "code",
   "execution_count": 62,
   "id": "e4edec6e",
   "metadata": {},
   "outputs": [
    {
     "data": {
      "text/plain": [
       "array([0, 0, 0, ..., 0, 8, 8])"
      ]
     },
     "execution_count": 62,
     "metadata": {},
     "output_type": "execute_result"
    }
   ],
   "source": [
    "km.predict(X_reduced)"
   ]
  },
  {
   "cell_type": "code",
   "execution_count": 63,
   "id": "8a5a6047",
   "metadata": {},
   "outputs": [
    {
     "data": {
      "text/plain": [
       "1        3.5\n",
       "22       3.5\n",
       "33       4.5\n",
       "46       2.5\n",
       "50       5.0\n",
       "        ... \n",
       "29593    5.5\n",
       "29596    3.0\n",
       "29598    1.0\n",
       "29601    5.5\n",
       "29602    5.5\n",
       "Name: Urgency(1-7), Length: 5959, dtype: float64"
      ]
     },
     "execution_count": 63,
     "metadata": {},
     "output_type": "execute_result"
    }
   ],
   "source": [
    "Y"
   ]
  },
  {
   "cell_type": "code",
   "execution_count": 66,
   "id": "79bfc977",
   "metadata": {},
   "outputs": [],
   "source": [
    "from sklearn.cluster import DBSCAN"
   ]
  },
  {
   "cell_type": "code",
   "execution_count": 67,
   "id": "89f14d37",
   "metadata": {},
   "outputs": [],
   "source": [
    "dbsc = DBSCAN()"
   ]
  },
  {
   "cell_type": "code",
   "execution_count": 69,
   "id": "1ee2ae85",
   "metadata": {},
   "outputs": [
    {
     "data": {
      "text/plain": [
       "DBSCAN()"
      ]
     },
     "execution_count": 69,
     "metadata": {},
     "output_type": "execute_result"
    }
   ],
   "source": [
    "dbsc.fit(X_reduced)"
   ]
  },
  {
   "cell_type": "code",
   "execution_count": 71,
   "id": "2e3bad9c",
   "metadata": {},
   "outputs": [],
   "source": [
    "res = dbsc.fit_predict(X_reduced)"
   ]
  },
  {
   "cell_type": "code",
   "execution_count": 72,
   "id": "67e57829",
   "metadata": {},
   "outputs": [
    {
     "data": {
      "text/plain": [
       "array([ 0,  1, -1, ..., -1, -1, -1], dtype=int64)"
      ]
     },
     "execution_count": 72,
     "metadata": {},
     "output_type": "execute_result"
    }
   ],
   "source": [
    "res"
   ]
  },
  {
   "cell_type": "code",
   "execution_count": 215,
   "id": "3ab31ac7",
   "metadata": {},
   "outputs": [],
   "source": [
    "#neural network\n",
    "import torch\n",
    "import torch.nn as nn\n",
    "import torch.utils.data as td"
   ]
  },
  {
   "cell_type": "code",
   "execution_count": 216,
   "id": "76c0d77f",
   "metadata": {},
   "outputs": [],
   "source": [
    "class ShauryaNet(nn.Module):\n",
    "    def __init__(self):\n",
    "        super(ShauryaNet, self).__init__()\n",
    "        self.net = nn.Sequential(\n",
    "            nn.Linear(4, 100),\n",
    "            nn.ReLU(),\n",
    "            nn.Linear(100, 100),\n",
    "            nn.ReLU(),\n",
    "            nn.Linear(100, 1),\n",
    "            nn.Sigmoid()\n",
    "        )\n",
    "\n",
    "    def forward(self, x):\n",
    "        x = self.net(x)\n",
    "        return x"
   ]
  },
  {
   "cell_type": "code",
   "execution_count": 217,
   "id": "83c72649",
   "metadata": {},
   "outputs": [
    {
     "name": "stdout",
     "output_type": "stream",
     "text": [
      "tensor([[0.5014],\n",
      "        [0.5027],\n",
      "        [0.4933],\n",
      "        [0.4780],\n",
      "        [0.4847],\n",
      "        [0.5165],\n",
      "        [0.4651],\n",
      "        [0.4679],\n",
      "        [0.5169],\n",
      "        [0.4529]], grad_fn=<SigmoidBackward0>)\n"
     ]
    }
   ],
   "source": [
    "net = ShauryaNet()\n",
    "inp = torch.randn(10, 4)\n",
    "print(net(inp))"
   ]
  },
  {
   "cell_type": "code",
   "execution_count": 218,
   "id": "5b959147",
   "metadata": {},
   "outputs": [
    {
     "name": "stdout",
     "output_type": "stream",
     "text": [
      "(4469, 4)\n",
      "[[0.         0.29538722 0.71428571 1.        ]\n",
      " [0.         0.00190436 0.57142857 0.        ]\n",
      " [0.02173913 0.01650444 0.71428571 0.        ]\n",
      " [0.         0.00486669 0.57142857 0.        ]\n",
      " [0.2173913  0.04813796 0.71428571 0.        ]]\n"
     ]
    }
   ],
   "source": [
    "print(X_train.shape)\n",
    "print(X_train[:5])"
   ]
  },
  {
   "cell_type": "code",
   "execution_count": 219,
   "id": "814df2c4",
   "metadata": {},
   "outputs": [
    {
     "name": "stdout",
     "output_type": "stream",
     "text": [
      "tensor([[0.0000, 0.2954, 0.7143, 1.0000],\n",
      "        [0.0000, 0.0019, 0.5714, 0.0000],\n",
      "        [0.0217, 0.0165, 0.7143, 0.0000],\n",
      "        [0.0000, 0.0049, 0.5714, 0.0000],\n",
      "        [0.2174, 0.0481, 0.7143, 0.0000]])\n",
      "Ready to load data\n"
     ]
    }
   ],
   "source": [
    "# Create a dataset and loader for the training data and labels\n",
    "train_x = torch.Tensor(X_train).float()\n",
    "train_y = torch.Tensor(Y_train).float()\n",
    "train_ds = td.TensorDataset(train_x, train_y)\n",
    "print(train_x[:5])\n",
    "train_loader = td.DataLoader(train_ds, batch_size=20,\n",
    "    shuffle=False, num_workers=1)\n",
    "\n",
    "# Create a dataset and loader for the test data and labels\n",
    "test_x = torch.Tensor(x_test).float()\n",
    "test_y = torch.Tensor(y_test).float()\n",
    "test_ds = td.TensorDataset(test_x,test_y)\n",
    "test_loader = td.DataLoader(test_ds, batch_size=20,\n",
    "    shuffle=False, num_workers=1)\n",
    "print('Ready to load data')"
   ]
  },
  {
   "cell_type": "code",
   "execution_count": 240,
   "id": "313aac78",
   "metadata": {},
   "outputs": [],
   "source": [
    "def train(model, data_loader, optimizer, loss_criteria):\n",
    "    # Set the model to training mode\n",
    "    correct = 0\n",
    "    model.train()\n",
    "    train_loss = 0\n",
    "    batch_size = len(data_loader.dataset)\n",
    "#     print(next(iter(train_loader)))\n",
    "    for batch, tensor in enumerate(data_loader):\n",
    "        data, target = tensor\n",
    "        #feedforward\n",
    "        optimizer.zero_grad()\n",
    "        out = model(data)\n",
    "#         print(data, out, target)\n",
    "#         print(out.shape, target.shape)\n",
    "        loss = loss_criteria(out, target)\n",
    "        train_loss += loss.item()\n",
    "#         print(loss.item())\n",
    "        # backpropagate\n",
    "        loss.backward()\n",
    "        optimizer.step()\n",
    "        correct += torch.sum(abs(((out * 13) - (target * 13)) >= 0.5).item()\n",
    "\n",
    "    print(correct)\n",
    "    train_acc = 100. * correct / (batch_size + 1)\n",
    "    #Return average loss\n",
    "    avg_loss = train_loss / (batch+1)\n",
    "#     print(f'Training set: {train_loss:.6f}. Average loss: {avg_loss:.6f}')\n",
    "    return avg_loss, train_acc\n",
    "\n",
    "\n",
    "def test(model, data_loader, loss_criteria):\n",
    "    # Switch the model to evaluation mode (so we don't backpropagate)\n",
    "    model.eval()\n",
    "    test_loss = 0\n",
    "    correct = 0\n",
    "    batch_len = len(data_loader.dataset)\n",
    "    with torch.no_grad():\n",
    "        batch_count = 0\n",
    "        for batch, tensor in enumerate(data_loader):\n",
    "            batch_count += 1\n",
    "            data, target = tensor\n",
    "            # Get the predictions\n",
    "            out = model(data)\n",
    "\n",
    "            # calculate the loss\n",
    "            test_loss += loss_criteria(out, target).item()\n",
    "\n",
    "            # Calculate the accuracy\n",
    "            _, predicted = torch.max(out.data, 1)\n",
    "            correct += torch.sum(abs(out * 13 - target * 13) >= 1).item()\n",
    "            \n",
    "    # Calculate the average loss and total accuracy for this epoch\n",
    "    avg_loss = test_loss/batch_len\n",
    "    \n",
    "    test_acc = 100. * correct / len(data_loader.dataset)\n",
    "    \n",
    "    # return average loss for the epoch\n",
    "    return avg_loss, test_acc\n"
   ]
  },
  {
   "cell_type": "code",
   "execution_count": 241,
   "id": "103cffd7",
   "metadata": {},
   "outputs": [
    {
     "name": "stdout",
     "output_type": "stream",
     "text": [
      "tensor([False,  True,  True,  True])\n"
     ]
    }
   ],
   "source": [
    "a = torch.Tensor([0.5, 1, 0.6, 0.7])\n",
    "b = torch.Tensor([0.1, 0.5, 0.1, 0.2])\n",
    "print(abs(a-b) > 0.4)"
   ]
  },
  {
   "cell_type": "code",
   "execution_count": 242,
   "id": "9f9291c7",
   "metadata": {},
   "outputs": [
    {
     "name": "stdout",
     "output_type": "stream",
     "text": [
      "[tensor([[0.0000e+00, 2.9539e-01, 7.1429e-01, 1.0000e+00],\n",
      "        [0.0000e+00, 1.9044e-03, 5.7143e-01, 0.0000e+00],\n",
      "        [2.1739e-02, 1.6504e-02, 7.1429e-01, 0.0000e+00],\n",
      "        [0.0000e+00, 4.8667e-03, 5.7143e-01, 0.0000e+00],\n",
      "        [2.1739e-01, 4.8138e-02, 7.1429e-01, 0.0000e+00],\n",
      "        [0.0000e+00, 3.1739e-03, 6.4286e-01, 0.0000e+00],\n",
      "        [0.0000e+00, 5.2899e-03, 5.7143e-01, 0.0000e+00],\n",
      "        [0.0000e+00, 5.6073e-03, 7.1429e-01, 0.0000e+00],\n",
      "        [1.5217e-01, 5.9416e-01, 8.5714e-01, 0.0000e+00],\n",
      "        [0.0000e+00, 2.6449e-03, 6.4286e-01, 1.0000e+00],\n",
      "        [0.0000e+00, 2.7507e-03, 5.7143e-01, 1.0000e+00],\n",
      "        [0.0000e+00, 8.9611e-02, 7.8571e-01, 0.0000e+00],\n",
      "        [0.0000e+00, 7.7338e-02, 7.8571e-01, 0.0000e+00],\n",
      "        [2.1739e-02, 3.4067e-02, 7.1429e-01, 0.0000e+00],\n",
      "        [0.0000e+00, 1.3225e-02, 5.7143e-01, 0.0000e+00],\n",
      "        [0.0000e+00, 8.4638e-04, 5.7143e-01, 1.0000e+00],\n",
      "        [0.0000e+00, 4.0203e-02, 7.1429e-01, 0.0000e+00],\n",
      "        [2.1739e-02, 7.7127e-02, 7.1429e-01, 0.0000e+00],\n",
      "        [4.3478e-02, 7.0884e-03, 6.4286e-01, 1.0000e+00],\n",
      "        [2.1739e-02, 1.8948e-01, 7.1429e-01, 0.0000e+00]]), tensor([0.5714, 0.5714, 0.7143, 0.7143, 0.7143, 0.6429, 0.7143, 0.7857, 0.7857,\n",
      "        0.4286, 0.4286, 0.7857, 0.7143, 0.7857, 0.7143, 0.5714, 0.7143, 0.7143,\n",
      "        0.6429, 0.7143])]\n"
     ]
    }
   ],
   "source": [
    "print(next(iter(train_loader)))"
   ]
  },
  {
   "cell_type": "code",
   "execution_count": 244,
   "id": "d137a3bf",
   "metadata": {},
   "outputs": [
    {
     "name": "stdout",
     "output_type": "stream",
     "text": [
      "58612\n",
      "Epoch: 1. Train loss: 0.0285, Train acc: 1311.2304, Test loss: 0.0014, Test acc: 1209.0604\n",
      "57856\n"
     ]
    },
    {
     "ename": "KeyboardInterrupt",
     "evalue": "",
     "output_type": "error",
     "traceback": [
      "\u001b[1;31m---------------------------------------------------------------------------\u001b[0m",
      "\u001b[1;31mKeyboardInterrupt\u001b[0m                         Traceback (most recent call last)",
      "Input \u001b[1;32mIn [244]\u001b[0m, in \u001b[0;36m<cell line: 20>\u001b[1;34m()\u001b[0m\n\u001b[0;32m     25\u001b[0m train_loss, train_acc \u001b[38;5;241m=\u001b[39m train(net, train_loader, optimizer, loss_criteria)\n\u001b[0;32m     27\u001b[0m \u001b[38;5;66;03m# Feed the test data into the model to check its performance\u001b[39;00m\n\u001b[1;32m---> 28\u001b[0m test_loss, test_acc \u001b[38;5;241m=\u001b[39m \u001b[43mtest\u001b[49m\u001b[43m(\u001b[49m\u001b[43mnet\u001b[49m\u001b[43m,\u001b[49m\u001b[43m \u001b[49m\u001b[43mtest_loader\u001b[49m\u001b[43m,\u001b[49m\u001b[43m \u001b[49m\u001b[43mloss_criteria\u001b[49m\u001b[43m)\u001b[49m\n\u001b[0;32m     30\u001b[0m \u001b[38;5;66;03m# Log the metrics for this epoch\u001b[39;00m\n\u001b[0;32m     31\u001b[0m epoch_nums\u001b[38;5;241m.\u001b[39mappend(epoch)\n",
      "Input \u001b[1;32mIn [240]\u001b[0m, in \u001b[0;36mtest\u001b[1;34m(model, data_loader, loss_criteria)\u001b[0m\n\u001b[0;32m     37\u001b[0m \u001b[38;5;28;01mwith\u001b[39;00m torch\u001b[38;5;241m.\u001b[39mno_grad():\n\u001b[0;32m     38\u001b[0m     batch_count \u001b[38;5;241m=\u001b[39m \u001b[38;5;241m0\u001b[39m\n\u001b[1;32m---> 39\u001b[0m     \u001b[38;5;28;01mfor\u001b[39;00m batch, tensor \u001b[38;5;129;01min\u001b[39;00m \u001b[38;5;28menumerate\u001b[39m(data_loader):\n\u001b[0;32m     40\u001b[0m         batch_count \u001b[38;5;241m+\u001b[39m\u001b[38;5;241m=\u001b[39m \u001b[38;5;241m1\u001b[39m\n\u001b[0;32m     41\u001b[0m         data, target \u001b[38;5;241m=\u001b[39m tensor\n",
      "File \u001b[1;32m~\\anaconda3\\lib\\site-packages\\torch\\utils\\data\\dataloader.py:681\u001b[0m, in \u001b[0;36m_BaseDataLoaderIter.__next__\u001b[1;34m(self)\u001b[0m\n\u001b[0;32m    678\u001b[0m \u001b[38;5;28;01mif\u001b[39;00m \u001b[38;5;28mself\u001b[39m\u001b[38;5;241m.\u001b[39m_sampler_iter \u001b[38;5;129;01mis\u001b[39;00m \u001b[38;5;28;01mNone\u001b[39;00m:\n\u001b[0;32m    679\u001b[0m     \u001b[38;5;66;03m# TODO(https://github.com/pytorch/pytorch/issues/76750)\u001b[39;00m\n\u001b[0;32m    680\u001b[0m     \u001b[38;5;28mself\u001b[39m\u001b[38;5;241m.\u001b[39m_reset()  \u001b[38;5;66;03m# type: ignore[call-arg]\u001b[39;00m\n\u001b[1;32m--> 681\u001b[0m data \u001b[38;5;241m=\u001b[39m \u001b[38;5;28;43mself\u001b[39;49m\u001b[38;5;241;43m.\u001b[39;49m\u001b[43m_next_data\u001b[49m\u001b[43m(\u001b[49m\u001b[43m)\u001b[49m\n\u001b[0;32m    682\u001b[0m \u001b[38;5;28mself\u001b[39m\u001b[38;5;241m.\u001b[39m_num_yielded \u001b[38;5;241m+\u001b[39m\u001b[38;5;241m=\u001b[39m \u001b[38;5;241m1\u001b[39m\n\u001b[0;32m    683\u001b[0m \u001b[38;5;28;01mif\u001b[39;00m \u001b[38;5;28mself\u001b[39m\u001b[38;5;241m.\u001b[39m_dataset_kind \u001b[38;5;241m==\u001b[39m _DatasetKind\u001b[38;5;241m.\u001b[39mIterable \u001b[38;5;129;01mand\u001b[39;00m \\\n\u001b[0;32m    684\u001b[0m         \u001b[38;5;28mself\u001b[39m\u001b[38;5;241m.\u001b[39m_IterableDataset_len_called \u001b[38;5;129;01mis\u001b[39;00m \u001b[38;5;129;01mnot\u001b[39;00m \u001b[38;5;28;01mNone\u001b[39;00m \u001b[38;5;129;01mand\u001b[39;00m \\\n\u001b[0;32m    685\u001b[0m         \u001b[38;5;28mself\u001b[39m\u001b[38;5;241m.\u001b[39m_num_yielded \u001b[38;5;241m>\u001b[39m \u001b[38;5;28mself\u001b[39m\u001b[38;5;241m.\u001b[39m_IterableDataset_len_called:\n",
      "File \u001b[1;32m~\\anaconda3\\lib\\site-packages\\torch\\utils\\data\\dataloader.py:1359\u001b[0m, in \u001b[0;36m_MultiProcessingDataLoaderIter._next_data\u001b[1;34m(self)\u001b[0m\n\u001b[0;32m   1356\u001b[0m     \u001b[38;5;28;01mreturn\u001b[39;00m \u001b[38;5;28mself\u001b[39m\u001b[38;5;241m.\u001b[39m_process_data(data)\n\u001b[0;32m   1358\u001b[0m \u001b[38;5;28;01massert\u001b[39;00m \u001b[38;5;129;01mnot\u001b[39;00m \u001b[38;5;28mself\u001b[39m\u001b[38;5;241m.\u001b[39m_shutdown \u001b[38;5;129;01mand\u001b[39;00m \u001b[38;5;28mself\u001b[39m\u001b[38;5;241m.\u001b[39m_tasks_outstanding \u001b[38;5;241m>\u001b[39m \u001b[38;5;241m0\u001b[39m\n\u001b[1;32m-> 1359\u001b[0m idx, data \u001b[38;5;241m=\u001b[39m \u001b[38;5;28;43mself\u001b[39;49m\u001b[38;5;241;43m.\u001b[39;49m\u001b[43m_get_data\u001b[49m\u001b[43m(\u001b[49m\u001b[43m)\u001b[49m\n\u001b[0;32m   1360\u001b[0m \u001b[38;5;28mself\u001b[39m\u001b[38;5;241m.\u001b[39m_tasks_outstanding \u001b[38;5;241m-\u001b[39m\u001b[38;5;241m=\u001b[39m \u001b[38;5;241m1\u001b[39m\n\u001b[0;32m   1361\u001b[0m \u001b[38;5;28;01mif\u001b[39;00m \u001b[38;5;28mself\u001b[39m\u001b[38;5;241m.\u001b[39m_dataset_kind \u001b[38;5;241m==\u001b[39m _DatasetKind\u001b[38;5;241m.\u001b[39mIterable:\n\u001b[0;32m   1362\u001b[0m     \u001b[38;5;66;03m# Check for _IterableDatasetStopIteration\u001b[39;00m\n",
      "File \u001b[1;32m~\\anaconda3\\lib\\site-packages\\torch\\utils\\data\\dataloader.py:1325\u001b[0m, in \u001b[0;36m_MultiProcessingDataLoaderIter._get_data\u001b[1;34m(self)\u001b[0m\n\u001b[0;32m   1321\u001b[0m     \u001b[38;5;66;03m# In this case, `self._data_queue` is a `queue.Queue`,. But we don't\u001b[39;00m\n\u001b[0;32m   1322\u001b[0m     \u001b[38;5;66;03m# need to call `.task_done()` because we don't use `.join()`.\u001b[39;00m\n\u001b[0;32m   1323\u001b[0m \u001b[38;5;28;01melse\u001b[39;00m:\n\u001b[0;32m   1324\u001b[0m     \u001b[38;5;28;01mwhile\u001b[39;00m \u001b[38;5;28;01mTrue\u001b[39;00m:\n\u001b[1;32m-> 1325\u001b[0m         success, data \u001b[38;5;241m=\u001b[39m \u001b[38;5;28;43mself\u001b[39;49m\u001b[38;5;241;43m.\u001b[39;49m\u001b[43m_try_get_data\u001b[49m\u001b[43m(\u001b[49m\u001b[43m)\u001b[49m\n\u001b[0;32m   1326\u001b[0m         \u001b[38;5;28;01mif\u001b[39;00m success:\n\u001b[0;32m   1327\u001b[0m             \u001b[38;5;28;01mreturn\u001b[39;00m data\n",
      "File \u001b[1;32m~\\anaconda3\\lib\\site-packages\\torch\\utils\\data\\dataloader.py:1163\u001b[0m, in \u001b[0;36m_MultiProcessingDataLoaderIter._try_get_data\u001b[1;34m(self, timeout)\u001b[0m\n\u001b[0;32m   1150\u001b[0m \u001b[38;5;28;01mdef\u001b[39;00m \u001b[38;5;21m_try_get_data\u001b[39m(\u001b[38;5;28mself\u001b[39m, timeout\u001b[38;5;241m=\u001b[39m_utils\u001b[38;5;241m.\u001b[39mMP_STATUS_CHECK_INTERVAL):\n\u001b[0;32m   1151\u001b[0m     \u001b[38;5;66;03m# Tries to fetch data from `self._data_queue` once for a given timeout.\u001b[39;00m\n\u001b[0;32m   1152\u001b[0m     \u001b[38;5;66;03m# This can also be used as inner loop of fetching without timeout, with\u001b[39;00m\n\u001b[1;32m   (...)\u001b[0m\n\u001b[0;32m   1160\u001b[0m     \u001b[38;5;66;03m# Returns a 2-tuple:\u001b[39;00m\n\u001b[0;32m   1161\u001b[0m     \u001b[38;5;66;03m#   (bool: whether successfully get data, any: data if successful else None)\u001b[39;00m\n\u001b[0;32m   1162\u001b[0m     \u001b[38;5;28;01mtry\u001b[39;00m:\n\u001b[1;32m-> 1163\u001b[0m         data \u001b[38;5;241m=\u001b[39m \u001b[38;5;28;43mself\u001b[39;49m\u001b[38;5;241;43m.\u001b[39;49m\u001b[43m_data_queue\u001b[49m\u001b[38;5;241;43m.\u001b[39;49m\u001b[43mget\u001b[49m\u001b[43m(\u001b[49m\u001b[43mtimeout\u001b[49m\u001b[38;5;241;43m=\u001b[39;49m\u001b[43mtimeout\u001b[49m\u001b[43m)\u001b[49m\n\u001b[0;32m   1164\u001b[0m         \u001b[38;5;28;01mreturn\u001b[39;00m (\u001b[38;5;28;01mTrue\u001b[39;00m, data)\n\u001b[0;32m   1165\u001b[0m     \u001b[38;5;28;01mexcept\u001b[39;00m \u001b[38;5;167;01mException\u001b[39;00m \u001b[38;5;28;01mas\u001b[39;00m e:\n\u001b[0;32m   1166\u001b[0m         \u001b[38;5;66;03m# At timeout and error, we manually check whether any worker has\u001b[39;00m\n\u001b[0;32m   1167\u001b[0m         \u001b[38;5;66;03m# failed. Note that this is the only mechanism for Windows to detect\u001b[39;00m\n\u001b[0;32m   1168\u001b[0m         \u001b[38;5;66;03m# worker failures.\u001b[39;00m\n",
      "File \u001b[1;32m~\\anaconda3\\lib\\multiprocessing\\queues.py:113\u001b[0m, in \u001b[0;36mQueue.get\u001b[1;34m(self, block, timeout)\u001b[0m\n\u001b[0;32m    111\u001b[0m \u001b[38;5;28;01mif\u001b[39;00m block:\n\u001b[0;32m    112\u001b[0m     timeout \u001b[38;5;241m=\u001b[39m deadline \u001b[38;5;241m-\u001b[39m time\u001b[38;5;241m.\u001b[39mmonotonic()\n\u001b[1;32m--> 113\u001b[0m     \u001b[38;5;28;01mif\u001b[39;00m \u001b[38;5;129;01mnot\u001b[39;00m \u001b[38;5;28;43mself\u001b[39;49m\u001b[38;5;241;43m.\u001b[39;49m\u001b[43m_poll\u001b[49m\u001b[43m(\u001b[49m\u001b[43mtimeout\u001b[49m\u001b[43m)\u001b[49m:\n\u001b[0;32m    114\u001b[0m         \u001b[38;5;28;01mraise\u001b[39;00m Empty\n\u001b[0;32m    115\u001b[0m \u001b[38;5;28;01melif\u001b[39;00m \u001b[38;5;129;01mnot\u001b[39;00m \u001b[38;5;28mself\u001b[39m\u001b[38;5;241m.\u001b[39m_poll():\n",
      "File \u001b[1;32m~\\anaconda3\\lib\\multiprocessing\\connection.py:262\u001b[0m, in \u001b[0;36m_ConnectionBase.poll\u001b[1;34m(self, timeout)\u001b[0m\n\u001b[0;32m    260\u001b[0m \u001b[38;5;28mself\u001b[39m\u001b[38;5;241m.\u001b[39m_check_closed()\n\u001b[0;32m    261\u001b[0m \u001b[38;5;28mself\u001b[39m\u001b[38;5;241m.\u001b[39m_check_readable()\n\u001b[1;32m--> 262\u001b[0m \u001b[38;5;28;01mreturn\u001b[39;00m \u001b[38;5;28;43mself\u001b[39;49m\u001b[38;5;241;43m.\u001b[39;49m\u001b[43m_poll\u001b[49m\u001b[43m(\u001b[49m\u001b[43mtimeout\u001b[49m\u001b[43m)\u001b[49m\n",
      "File \u001b[1;32m~\\anaconda3\\lib\\multiprocessing\\connection.py:335\u001b[0m, in \u001b[0;36mPipeConnection._poll\u001b[1;34m(self, timeout)\u001b[0m\n\u001b[0;32m    332\u001b[0m \u001b[38;5;28;01mif\u001b[39;00m (\u001b[38;5;28mself\u001b[39m\u001b[38;5;241m.\u001b[39m_got_empty_message \u001b[38;5;129;01mor\u001b[39;00m\n\u001b[0;32m    333\u001b[0m             _winapi\u001b[38;5;241m.\u001b[39mPeekNamedPipe(\u001b[38;5;28mself\u001b[39m\u001b[38;5;241m.\u001b[39m_handle)[\u001b[38;5;241m0\u001b[39m] \u001b[38;5;241m!=\u001b[39m \u001b[38;5;241m0\u001b[39m):\n\u001b[0;32m    334\u001b[0m     \u001b[38;5;28;01mreturn\u001b[39;00m \u001b[38;5;28;01mTrue\u001b[39;00m\n\u001b[1;32m--> 335\u001b[0m \u001b[38;5;28;01mreturn\u001b[39;00m \u001b[38;5;28mbool\u001b[39m(\u001b[43mwait\u001b[49m\u001b[43m(\u001b[49m\u001b[43m[\u001b[49m\u001b[38;5;28;43mself\u001b[39;49m\u001b[43m]\u001b[49m\u001b[43m,\u001b[49m\u001b[43m \u001b[49m\u001b[43mtimeout\u001b[49m\u001b[43m)\u001b[49m)\n",
      "File \u001b[1;32m~\\anaconda3\\lib\\multiprocessing\\connection.py:884\u001b[0m, in \u001b[0;36mwait\u001b[1;34m(object_list, timeout)\u001b[0m\n\u001b[0;32m    881\u001b[0m                 ready_objects\u001b[38;5;241m.\u001b[39madd(o)\n\u001b[0;32m    882\u001b[0m                 timeout \u001b[38;5;241m=\u001b[39m \u001b[38;5;241m0\u001b[39m\n\u001b[1;32m--> 884\u001b[0m     ready_handles \u001b[38;5;241m=\u001b[39m \u001b[43m_exhaustive_wait\u001b[49m\u001b[43m(\u001b[49m\u001b[43mwaithandle_to_obj\u001b[49m\u001b[38;5;241;43m.\u001b[39;49m\u001b[43mkeys\u001b[49m\u001b[43m(\u001b[49m\u001b[43m)\u001b[49m\u001b[43m,\u001b[49m\u001b[43m \u001b[49m\u001b[43mtimeout\u001b[49m\u001b[43m)\u001b[49m\n\u001b[0;32m    885\u001b[0m \u001b[38;5;28;01mfinally\u001b[39;00m:\n\u001b[0;32m    886\u001b[0m     \u001b[38;5;66;03m# request that overlapped reads stop\u001b[39;00m\n\u001b[0;32m    887\u001b[0m     \u001b[38;5;28;01mfor\u001b[39;00m ov \u001b[38;5;129;01min\u001b[39;00m ov_list:\n",
      "File \u001b[1;32m~\\anaconda3\\lib\\multiprocessing\\connection.py:816\u001b[0m, in \u001b[0;36m_exhaustive_wait\u001b[1;34m(handles, timeout)\u001b[0m\n\u001b[0;32m    814\u001b[0m ready \u001b[38;5;241m=\u001b[39m []\n\u001b[0;32m    815\u001b[0m \u001b[38;5;28;01mwhile\u001b[39;00m L:\n\u001b[1;32m--> 816\u001b[0m     res \u001b[38;5;241m=\u001b[39m \u001b[43m_winapi\u001b[49m\u001b[38;5;241;43m.\u001b[39;49m\u001b[43mWaitForMultipleObjects\u001b[49m\u001b[43m(\u001b[49m\u001b[43mL\u001b[49m\u001b[43m,\u001b[49m\u001b[43m \u001b[49m\u001b[38;5;28;43;01mFalse\u001b[39;49;00m\u001b[43m,\u001b[49m\u001b[43m \u001b[49m\u001b[43mtimeout\u001b[49m\u001b[43m)\u001b[49m\n\u001b[0;32m    817\u001b[0m     \u001b[38;5;28;01mif\u001b[39;00m res \u001b[38;5;241m==\u001b[39m WAIT_TIMEOUT:\n\u001b[0;32m    818\u001b[0m         \u001b[38;5;28;01mbreak\u001b[39;00m\n",
      "\u001b[1;31mKeyboardInterrupt\u001b[0m: "
     ]
    }
   ],
   "source": [
    "# Specify the loss criteria (we'll use CrossEntropyLoss for multi-class classification)\n",
    "# loss_criteria = nn.CrossEntropyLoss()\n",
    "loss_criteria = nn.MSELoss()\n",
    "# Use an \"Adam\" optimizer to adjust weights\n",
    "# (see https://pytorch.org/docs/stable/optim.html#algorithms for details of supported algorithms)\n",
    "learning_rate = 1e-2\n",
    "net = ShauryaNet()\n",
    "optimizer = torch.optim.Adam(net.parameters(), lr=learning_rate)\n",
    "optimizer.zero_grad()\n",
    "\n",
    "# We'll track metrics for each epoch in these arrays\n",
    "epoch_nums = []\n",
    "training_loss = []\n",
    "validation_loss = []\n",
    "\n",
    "# Train over 50 epochs\n",
    "epochs = 50\n",
    "# pbar = tqdm()\n",
    "\n",
    "for epoch in range(1, epochs + 1):\n",
    "\n",
    "    # print the epoch number\n",
    "    \n",
    "    # Feed training data into the model to optimize the weights\n",
    "    train_loss, train_acc = train(net, train_loader, optimizer, loss_criteria)\n",
    "    \n",
    "    # Feed the test data into the model to check its performance\n",
    "    test_loss, test_acc = test(net, test_loader, loss_criteria)\n",
    "    \n",
    "    # Log the metrics for this epoch\n",
    "    epoch_nums.append(epoch)\n",
    "    training_loss.append(train_loss)\n",
    "    validation_loss.append(test_loss)\n",
    "    s = f'Epoch: {epoch}. Train loss: {train_loss:0.4f}, Train acc: {train_acc:.4f}, Test loss: {test_loss:0.4f}, Test acc: {test_acc:0.4f}'\n",
    "    print(s)\n",
    "    "
   ]
  },
  {
   "cell_type": "markdown",
   "id": "3e82a6c7",
   "metadata": {},
   "source": [
    "### "
   ]
  },
  {
   "cell_type": "code",
   "execution_count": null,
   "id": "38395542",
   "metadata": {},
   "outputs": [],
   "source": []
  }
 ],
 "metadata": {
  "kernelspec": {
   "display_name": "Python 3 (ipykernel)",
   "language": "python",
   "name": "python3"
  },
  "language_info": {
   "codemirror_mode": {
    "name": "ipython",
    "version": 3
   },
   "file_extension": ".py",
   "mimetype": "text/x-python",
   "name": "python",
   "nbconvert_exporter": "python",
   "pygments_lexer": "ipython3",
   "version": "3.9.12"
  }
 },
 "nbformat": 4,
 "nbformat_minor": 5
}
