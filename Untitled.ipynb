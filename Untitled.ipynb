{
 "cells": [
  {
   "cell_type": "code",
   "execution_count": 1,
   "id": "75f0e42c",
   "metadata": {},
   "outputs": [],
   "source": [
    "import pandas as pd, numpy as np"
   ]
  },
  {
   "cell_type": "code",
   "execution_count": 2,
   "id": "c08c4465",
   "metadata": {},
   "outputs": [],
   "source": [
    "df = pd.read_csv(\"stanfordMOOCForumPostsSet.csv\")"
   ]
  },
  {
   "cell_type": "code",
   "execution_count": 3,
   "id": "da3110ea",
   "metadata": {},
   "outputs": [
    {
     "data": {
      "text/html": [
       "<div>\n",
       "<style scoped>\n",
       "    .dataframe tbody tr th:only-of-type {\n",
       "        vertical-align: middle;\n",
       "    }\n",
       "\n",
       "    .dataframe tbody tr th {\n",
       "        vertical-align: top;\n",
       "    }\n",
       "\n",
       "    .dataframe thead th {\n",
       "        text-align: right;\n",
       "    }\n",
       "</style>\n",
       "<table border=\"1\" class=\"dataframe\">\n",
       "  <thead>\n",
       "    <tr style=\"text-align: right;\">\n",
       "      <th></th>\n",
       "      <th>Text</th>\n",
       "      <th>Opinion(1/0)</th>\n",
       "      <th>Question(1/0)</th>\n",
       "      <th>Answer(1/0)</th>\n",
       "      <th>Sentiment(1-7)</th>\n",
       "      <th>Confusion(1-7)</th>\n",
       "      <th>Urgency(1-7)</th>\n",
       "      <th>CourseType</th>\n",
       "      <th>forum_post_id</th>\n",
       "      <th>course_display_name</th>\n",
       "      <th>forum_uid</th>\n",
       "      <th>created_at</th>\n",
       "      <th>post_type</th>\n",
       "      <th>anonymous</th>\n",
       "      <th>anonymous_to_peers</th>\n",
       "      <th>up_count</th>\n",
       "      <th>comment_thread_id</th>\n",
       "      <th>reads</th>\n",
       "    </tr>\n",
       "  </thead>\n",
       "  <tbody>\n",
       "    <tr>\n",
       "      <th>0</th>\n",
       "      <td>Interesting! How often we say those things to ...</td>\n",
       "      <td>1</td>\n",
       "      <td>0</td>\n",
       "      <td>0</td>\n",
       "      <td>6.5</td>\n",
       "      <td>2.0</td>\n",
       "      <td>1.5</td>\n",
       "      <td>Education</td>\n",
       "      <td>5225177f2c501f0a00000015</td>\n",
       "      <td>Education/EDUC115N/How_to_Learn_Math</td>\n",
       "      <td>30CADB93E6DE4711193D7BD05F2AE95C</td>\n",
       "      <td>02-09-2013 22:55</td>\n",
       "      <td>Comment</td>\n",
       "      <td>False</td>\n",
       "      <td>False</td>\n",
       "      <td>0.0</td>\n",
       "      <td>5221a8262cfae31200000001</td>\n",
       "      <td>41.0</td>\n",
       "    </tr>\n",
       "    <tr>\n",
       "      <th>1</th>\n",
       "      <td>What is \\Algebra as a Math Game\\\" or are you j...</td>\n",
       "      <td>0</td>\n",
       "      <td>1</td>\n",
       "      <td>0</td>\n",
       "      <td>4.0</td>\n",
       "      <td>5.0</td>\n",
       "      <td>3.5</td>\n",
       "      <td>Education</td>\n",
       "      <td>5207d0e9935dfc0e0000005e</td>\n",
       "      <td>Education/EDUC115N/How_to_Learn_Math</td>\n",
       "      <td>37D8FAEE7D0B94B6CFC57D98FD3D0BA5</td>\n",
       "      <td>11-08-2013 17:59</td>\n",
       "      <td>Comment</td>\n",
       "      <td>False</td>\n",
       "      <td>False</td>\n",
       "      <td>0.0</td>\n",
       "      <td>520663839df35b0a00000043</td>\n",
       "      <td>55.0</td>\n",
       "    </tr>\n",
       "    <tr>\n",
       "      <th>2</th>\n",
       "      <td>I like the idea of my kids principal who says ...</td>\n",
       "      <td>1</td>\n",
       "      <td>0</td>\n",
       "      <td>0</td>\n",
       "      <td>5.5</td>\n",
       "      <td>3.0</td>\n",
       "      <td>2.5</td>\n",
       "      <td>Education</td>\n",
       "      <td>52052c82d01fec0a00000071</td>\n",
       "      <td>Education/EDUC115N/How_to_Learn_Math</td>\n",
       "      <td>CC11480215042B3EB6E5905EAB13B733</td>\n",
       "      <td>09-08-2013 17:53</td>\n",
       "      <td>Comment</td>\n",
       "      <td>False</td>\n",
       "      <td>False</td>\n",
       "      <td>0.0</td>\n",
       "      <td>51e59415e339d716000001a6</td>\n",
       "      <td>25.0</td>\n",
       "    </tr>\n",
       "    <tr>\n",
       "      <th>3</th>\n",
       "      <td>From their responses, it seems the students re...</td>\n",
       "      <td>1</td>\n",
       "      <td>0</td>\n",
       "      <td>0</td>\n",
       "      <td>6.0</td>\n",
       "      <td>3.0</td>\n",
       "      <td>2.5</td>\n",
       "      <td>Education</td>\n",
       "      <td>5240a45e067ebf1200000008</td>\n",
       "      <td>Education/EDUC115N/How_to_Learn_Math</td>\n",
       "      <td>C717F838D10E8256D7C88B33C43623F1</td>\n",
       "      <td>23-09-2013 20:28</td>\n",
       "      <td>CommentThread</td>\n",
       "      <td>False</td>\n",
       "      <td>False</td>\n",
       "      <td>0.0</td>\n",
       "      <td>None</td>\n",
       "      <td>0.0</td>\n",
       "    </tr>\n",
       "    <tr>\n",
       "      <th>4</th>\n",
       "      <td>The boys loved math, because \\there is freedom...</td>\n",
       "      <td>1</td>\n",
       "      <td>0</td>\n",
       "      <td>0</td>\n",
       "      <td>7.0</td>\n",
       "      <td>2.0</td>\n",
       "      <td>3.0</td>\n",
       "      <td>Education</td>\n",
       "      <td>5212c5e2dd10251500000062</td>\n",
       "      <td>Education/EDUC115N/How_to_Learn_Math</td>\n",
       "      <td>F83887D68EA48964687C6441782CDD0E</td>\n",
       "      <td>20-08-2013 01:26</td>\n",
       "      <td>CommentThread</td>\n",
       "      <td>False</td>\n",
       "      <td>False</td>\n",
       "      <td>0.0</td>\n",
       "      <td>None</td>\n",
       "      <td>3.0</td>\n",
       "    </tr>\n",
       "  </tbody>\n",
       "</table>\n",
       "</div>"
      ],
      "text/plain": [
       "                                                Text  Opinion(1/0)  \\\n",
       "0  Interesting! How often we say those things to ...             1   \n",
       "1  What is \\Algebra as a Math Game\\\" or are you j...             0   \n",
       "2  I like the idea of my kids principal who says ...             1   \n",
       "3  From their responses, it seems the students re...             1   \n",
       "4  The boys loved math, because \\there is freedom...             1   \n",
       "\n",
       "   Question(1/0)  Answer(1/0)  Sentiment(1-7)  Confusion(1-7)  Urgency(1-7)  \\\n",
       "0              0            0             6.5             2.0           1.5   \n",
       "1              1            0             4.0             5.0           3.5   \n",
       "2              0            0             5.5             3.0           2.5   \n",
       "3              0            0             6.0             3.0           2.5   \n",
       "4              0            0             7.0             2.0           3.0   \n",
       "\n",
       "  CourseType             forum_post_id                   course_display_name  \\\n",
       "0  Education  5225177f2c501f0a00000015  Education/EDUC115N/How_to_Learn_Math   \n",
       "1  Education  5207d0e9935dfc0e0000005e  Education/EDUC115N/How_to_Learn_Math   \n",
       "2  Education  52052c82d01fec0a00000071  Education/EDUC115N/How_to_Learn_Math   \n",
       "3  Education  5240a45e067ebf1200000008  Education/EDUC115N/How_to_Learn_Math   \n",
       "4  Education  5212c5e2dd10251500000062  Education/EDUC115N/How_to_Learn_Math   \n",
       "\n",
       "                          forum_uid        created_at      post_type  \\\n",
       "0  30CADB93E6DE4711193D7BD05F2AE95C  02-09-2013 22:55        Comment   \n",
       "1  37D8FAEE7D0B94B6CFC57D98FD3D0BA5  11-08-2013 17:59        Comment   \n",
       "2  CC11480215042B3EB6E5905EAB13B733  09-08-2013 17:53        Comment   \n",
       "3  C717F838D10E8256D7C88B33C43623F1  23-09-2013 20:28  CommentThread   \n",
       "4  F83887D68EA48964687C6441782CDD0E  20-08-2013 01:26  CommentThread   \n",
       "\n",
       "  anonymous anonymous_to_peers  up_count         comment_thread_id  reads  \n",
       "0     False              False       0.0  5221a8262cfae31200000001   41.0  \n",
       "1     False              False       0.0  520663839df35b0a00000043   55.0  \n",
       "2     False              False       0.0  51e59415e339d716000001a6   25.0  \n",
       "3     False              False       0.0                      None    0.0  \n",
       "4     False              False       0.0                      None    3.0  "
      ]
     },
     "execution_count": 3,
     "metadata": {},
     "output_type": "execute_result"
    }
   ],
   "source": [
    "df.head()"
   ]
  },
  {
   "cell_type": "code",
   "execution_count": 4,
   "id": "2b50a837",
   "metadata": {},
   "outputs": [],
   "source": [
    "questions = df[df['Question(1/0)']==1]['Text']"
   ]
  },
  {
   "cell_type": "code",
   "execution_count": 5,
   "id": "fae02bdb",
   "metadata": {},
   "outputs": [
    {
     "data": {
      "text/plain": [
       "'What is \\\\Algebra as a Math Game\\\\\" or are you just saying you create games that incorporate algebra.\"'"
      ]
     },
     "execution_count": 5,
     "metadata": {},
     "output_type": "execute_result"
    }
   ],
   "source": [
    "questions[1]"
   ]
  },
  {
   "cell_type": "code",
   "execution_count": 6,
   "id": "9ad2d771",
   "metadata": {},
   "outputs": [],
   "source": [
    "from sklearn.metrics.pairwise import cosine_similarity\n",
    "from sklearn.feature_extraction.text import TfidfVectorizer"
   ]
  },
  {
   "cell_type": "code",
   "execution_count": 8,
   "id": "8073b40d",
   "metadata": {},
   "outputs": [],
   "source": [
    "import json"
   ]
  },
  {
   "cell_type": "code",
   "execution_count": 13,
   "id": "43fdd0ef",
   "metadata": {},
   "outputs": [],
   "source": [
    "my = np.array([1,2,3])\n",
    "np.save('myout',my)"
   ]
  },
  {
   "cell_type": "code",
   "execution_count": 15,
   "id": "b192b545",
   "metadata": {},
   "outputs": [],
   "source": [
    "x = np.load('myout.npy')"
   ]
  },
  {
   "cell_type": "code",
   "execution_count": 16,
   "id": "3fb4b523",
   "metadata": {},
   "outputs": [
    {
     "data": {
      "text/plain": [
       "array([1, 2, 3])"
      ]
     },
     "execution_count": 16,
     "metadata": {},
     "output_type": "execute_result"
    }
   ],
   "source": [
    "x"
   ]
  },
  {
   "cell_type": "code",
   "execution_count": 17,
   "id": "2e0c4c88",
   "metadata": {},
   "outputs": [],
   "source": [
    "vectorizer = TfidfVectorizer()"
   ]
  },
  {
   "cell_type": "code",
   "execution_count": 18,
   "id": "1efda384",
   "metadata": {},
   "outputs": [],
   "source": [
    "def compare_similarities():\n",
    "  temp = df[df['Question(1/0)']==1]['Text'].values\n",
    "#   temp = np.append(temp,question)\n",
    "  X = vectorizer.fit_transform(temp)\n",
    "  ans = []\n",
    "  for i in range(0,X.shape[0]):\n",
    "    cur = [0]*X.shape[0]\n",
    "    for j in range(i,X.shape[0]):\n",
    "      if (i!=j):\n",
    "        cur[j] = (cosine_similarity(X[i],X[j]))\n",
    "    ans.append(cur)\n",
    "  np.save('model',ans)\n",
    "  return ans"
   ]
  },
  {
   "cell_type": "code",
   "execution_count": null,
   "id": "ea8fdcf3",
   "metadata": {},
   "outputs": [],
   "source": [
    "cosine_mat = compare_similarities()"
   ]
  },
  {
   "cell_type": "code",
   "execution_count": 56,
   "id": "88bc9f8f",
   "metadata": {},
   "outputs": [],
   "source": [
    "def compare_similarities():\n",
    "  temp = df[df['Question(1/0)']==1]['Text'].values\n",
    "#   temp = np.append(temp,question)\n",
    "  X = vectorizer.fit_transform(temp)\n",
    "  ans = []\n",
    "  for i in range(0,X.shape[0]):\n",
    "    cur = []\n",
    "    for j in range(i+1,X.shape[0]):\n",
    "        if (cosine_similarity(X[i],X[X.shape[0]-1])>0.3):\n",
    "          cur.append(temp[i])\n",
    "    ans.append(cur)\n",
    "  return ans"
   ]
  },
  {
   "cell_type": "code",
   "execution_count": null,
   "id": "54d25a69",
   "metadata": {},
   "outputs": [],
   "source": [
    "my = [1,2,3]\n",
    "json.dump(my,open('file.txt','w'))"
   ]
  },
  {
   "cell_type": "code",
   "execution_count": null,
   "id": "d03ed566",
   "metadata": {},
   "outputs": [],
   "source": [
    "cosine_mat = compare_similarities()"
   ]
  },
  {
   "cell_type": "code",
   "execution_count": 38,
   "id": "017be487",
   "metadata": {},
   "outputs": [],
   "source": [
    "def compare_similarity(question):\n",
    "  temp = df[df['Question(1/0)']==1][df['Answer(1/0)']==1]['Text'].values\n",
    "  temp = np.append(temp,question)\n",
    "  X = vectorizer.fit_transform(temp)\n",
    "  ans = []\n",
    "  for i in range(0,X.shape[0]-1):\n",
    "    if (cosine_similarity(X[i],X[X.shape[0]-1])>0.3):\n",
    "      ans.append(temp[i])\n",
    "  \n",
    "  return ans"
   ]
  },
  {
   "cell_type": "code",
   "execution_count": 52,
   "id": "71071508",
   "metadata": {},
   "outputs": [],
   "source": [
    "def get_recommendations_instructor():\n",
    "    temp = df[df['Question(1/0)']==1][df['Answer(1/0)']==0]\n",
    "    temp = temp.sort_values(by=['Urgency(1-7)'],ascending=False)['Text'].head(10)\n",
    "    return temp.values"
   ]
  },
  {
   "cell_type": "code",
   "execution_count": 53,
   "id": "3e491f1a",
   "metadata": {},
   "outputs": [
    {
     "name": "stderr",
     "output_type": "stream",
     "text": [
      "C:\\Users\\HP\\AppData\\Local\\Temp\\ipykernel_2700\\3035940874.py:2: UserWarning: Boolean Series key will be reindexed to match DataFrame index.\n",
      "  temp = df[df['Question(1/0)']==1][df['Answer(1/0)']==0]\n"
     ]
    },
    {
     "data": {
      "text/plain": [
       "array(['What is the best way for scpd students to submit the hw? Is there an email alias one can submit to. \\x07The myStanfordConnection site (http://scpd.stanford.edu) seems down !!',\n",
       "       'Seriously, have you looked at those questions in light of the material in the lecture? You either need to do a helluva lot better job of explaining the difference between supervised or unsupervised learning, or you need to write questions that are decidable based on the information available in the lecture.\\x07\\x07The first question presents four learning problems.\\x07\\x071. Predict whether a website user will click on an ad\\x07\\x07   no training data mentioned.\\x07\\x07\\x072. Find clusters of genes that interact with each other\\x07\\x07   no training data mentioned, \\x07   clustering is mentioned explicitly in the lecture as an unsupervised training\\x07   problem.\\x07\\x07\\x073. Classify a handwritten digit as 0-9 from labeled examples\\x07\\x07   measurable outcome, and training data is available - supervised!\\x07\\x07\\x074. Find stocks that are likely to rise \\x07\\x07   No training data mentioned, so not supervised\\x07\\x07\\x07And seriously, question 2?   What\\'s up with that question?  The answer has one out of three goals for supervised learning, but because the other two are not mentioned it is incorrect?  This is like a game of simon says?   simon didn\\'t say \\x07\\\\Understand which inputs a\\x0bffect the outcome, and how\\\\\" so the answer is incorrect?\\x07No, the answer is correct, perhaps incomplete, but predicting IS a goal of supervised learning.\\x07\\x07You guys are just playing games here.\"',\n",
       "       \"What percent of participants in the placebo group have hypertension? (format xx.x, don't include % sign). \\x07Please check the table. I think that there is a mistake of the number in (73.9).\",\n",
       "       \"YouTube is blocked from my country, if I cann't not get access to the lectures, I am afraid I have to stop now. If you are the instructor or TA, can you give me some clarification of the video download issue, thank you.\",\n",
       "       'The video lectures and key notes are really interesting and helpful.\\x07\\x07But we are facing some issues with QUIZ: SUPPLY AND DEMAND and QUIZ: PRICE CEILINGS AND FLOORS.\\x07\\x07A lot of us have posted and discussed but still the answer remains unclear. \\x07\\x07We are looking forward to your explanations and guidance. Please help us to sort out our doubts.\\x07\\x07Thanks',\n",
       "       \"Dear course Management,\\x07Youtube is not working in my country Pakistan. Please do some alternate of it. I really want to take this course but i am not able to watch any video due to this problem. Can't you make it like coursera ?? if so i would personally really grateful to you.\\x07Regards\",\n",
       "       'I have the same problem. The grading is clearly wrong. It is of course also inconsistent with respect to surplus/shortage. \\x07\\x07Can you fix it so we can get properly credited?\\x07\\x07![enter image description here][<zipRedac>]\\x07\\x07\\x07  [<zipRedac>]: https://edx-west-uploads.s3.amazonaws.com/<phoneRedac><zipRedac>44445.png',\n",
       "       \"I have some doubts about one of the answers concerning the exam 1.7 question - maybe because I'm not a native English speaker: \\x07\\x07The Fick Equation: (check all that apply)\\x07\\x071. Is a mathematical representation of aerobic capacity (VO2) \\x072. Says VO2 is affected by how much blood your heart pumps per minute \\x073. Says VO2 is affected by how much oxygen your tissues extract \\x074. **Is not impacted by health and training** \\x075. All of the above\\x07\\x07Does the forth answer refer to the Fick equation as a mathematical representation in the sense that it is valid for everybody, a healthy and well-trained person as well as a not trained and not very healthy person? Or does it refer to VO2 (as the quantity described by the equation in terms of metabolic measures) as in the two answers before? \\x07\\x07As it is written I would understand it in the first manner, but I'm really not sure ... And the answer for the two cases would be different.\\x07\\x07Can anybody explain, please? Thanks!!\",\n",
       "       'So, I was wondering, in the quiz of module 3 part 2 both of the answers a and b could be the correct ones- a) More than half of the students slept 7.0 hours per night and b) More than half of the students slept between 6.5 and 7.5 hours per night. What do you think?',\n",
       "       \"Please help.  Can somebody please tell me how to use the R software or where I can go to learn how to use it?  I downloaded it after someone (I cannot find the discussion post) gave me the link.  I downloaded it; however, nothing is there except one-page.  I have no idea what to do with it.  I finally downloaded the r session for ch2 and opened it in Microsoft Word.  However, I do not know what to do with the information in that session because I don't know how to use the software.  Please help if there is an instructor on this.  I totally am lost about this software.  Thank you.\"],\n",
       "      dtype=object)"
      ]
     },
     "execution_count": 53,
     "metadata": {},
     "output_type": "execute_result"
    }
   ],
   "source": [
    "get_recommendations_instructor()"
   ]
  },
  {
   "cell_type": "code",
   "execution_count": null,
   "id": "c985bcdc",
   "metadata": {},
   "outputs": [],
   "source": []
  },
  {
   "cell_type": "code",
   "execution_count": null,
   "id": "fe23dfba",
   "metadata": {},
   "outputs": [],
   "source": []
  }
 ],
 "metadata": {
  "kernelspec": {
   "display_name": "Python 3.9.13 64-bit (microsoft store)",
   "language": "python",
   "name": "python3"
  },
  "language_info": {
   "codemirror_mode": {
    "name": "ipython",
    "version": 3
   },
   "file_extension": ".py",
   "mimetype": "text/x-python",
   "name": "python",
   "nbconvert_exporter": "python",
   "pygments_lexer": "ipython3",
   "version": "3.9.13"
  },
  "vscode": {
   "interpreter": {
    "hash": "33c99ce92ae57a37c90157b7c35934b668ba43f0729fdf7df53b30c6721ba8f2"
   }
  }
 },
 "nbformat": 4,
 "nbformat_minor": 5
}
